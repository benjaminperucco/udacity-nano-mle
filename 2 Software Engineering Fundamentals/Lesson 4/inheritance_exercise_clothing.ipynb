{
 "cells": [
  {
   "cell_type": "markdown",
   "metadata": {},
   "source": [
    "# Inheritance exercise clothing"
   ]
  },
  {
   "cell_type": "code",
   "execution_count": null,
   "metadata": {},
   "outputs": [],
   "source": [
    "import unittest"
   ]
  },
  {
   "cell_type": "code",
   "execution_count": null,
   "metadata": {},
   "outputs": [],
   "source": [
    "class Clothing:\n",
    "\n",
    "    def __init__(self, color, size, style, price):\n",
    "        self.color = color\n",
    "        self.size = size\n",
    "        self.style = style\n",
    "        self.price = price\n",
    "        \n",
    "    def change_price(self, price):\n",
    "        self.price = price\n",
    "        \n",
    "    def calculate_discount(self, discount):\n",
    "        return self.price * (1 - discount)\n",
    "    \n",
    "    def calculate_shipping(self, weight, rate):\n",
    "        \"\"\"Calculate shipping costs on basis of rate and weight by rate * weight\n",
    "        \n",
    "        Args:\n",
    "        weight (float): weight of the article of clothing\n",
    "        rate (float): cost per weight\n",
    "        \n",
    "        Returns:\n",
    "        weight * rate\"\"\"\n",
    "        return weight * rate"
   ]
  },
  {
   "cell_type": "code",
   "execution_count": null,
   "metadata": {},
   "outputs": [],
   "source": [
    "class Shirt(Clothing):\n",
    "    \n",
    "    def __init__(self, color='default', size='default', style='default', price=10, long_or_short='default'):\n",
    "        Clothing.__init__(self, color, size, style, price)\n",
    "        self.long_or_short = long_or_short\n",
    "    \n",
    "    def double_price(self):\n",
    "        self.price = 2 * self.price"
   ]
  },
  {
   "cell_type": "code",
   "execution_count": null,
   "metadata": {},
   "outputs": [],
   "source": [
    "class Pants(Clothing):\n",
    "\n",
    "    def __init__(self, color='default', size='default', style='default', price=10, waist='default'):\n",
    "        Clothing.__init__(self, color, size, style, price)\n",
    "        self.waist = waist\n",
    "        \n",
    "    def calculate_discount(self, discount):\n",
    "        return self.price * (1 - discount / 2)"
   ]
  },
  {
   "cell_type": "code",
   "execution_count": null,
   "metadata": {},
   "outputs": [],
   "source": [
    "class Blouse(Clothing):\n",
    "\n",
    "    def __init__(self, color='default', size='default', style='default', price=10, country_of_origin='default'):\n",
    "        Clothing.__init__(self, color, size, style, price)\n",
    "        self.country_of_origin = country_of_origin\n",
    "        \n",
    "    def triple_price(self):\n",
    "        return 3 * self.price"
   ]
  },
  {
   "cell_type": "code",
   "execution_count": null,
   "metadata": {},
   "outputs": [],
   "source": [
    "class TestClothingClass(unittest.TestCase):\n",
    "    def setUp(self):\n",
    "        self.clothing = Clothing('orange', 'M', 'stripes', 35)\n",
    "        self.blouse = Blouse('blue', 'M', 'luxury', 40, 'Brazil')\n",
    "        self.pants = Pants('black', 32, 'baggy', 60, 30)\n",
    "        \n",
    "    def test_initialization(self): \n",
    "        self.assertEqual(self.clothing.color, 'orange', 'color should be orange')\n",
    "        self.assertEqual(self.clothing.price, 35, 'incorrect price')\n",
    "        self.assertEqual(self.blouse.color, 'blue', 'color should be blue')\n",
    "        self.assertEqual(self.blouse.size, 'M', 'incorrect size')\n",
    "        self.assertEqual(self.blouse.style, 'luxury', 'incorrect style')\n",
    "        self.assertEqual(self.blouse.price, 40, 'incorrect price')\n",
    "        self.assertEqual(self.blouse.country_of_origin, 'Brazil', 'incorrect country of origin')\n",
    "        self.assertEqual(self.blouse.triple_price(), 120, 'incorrected tripled price')\n",
    "\n",
    "    def test_calculateshipping(self):\n",
    "        self.assertEqual(self.clothing.calculate_shipping(.5, 3), .5 * 3, 'Clothing shipping calculation not as expected') \n",
    "        self.assertEqual(self.blouse.calculate_shipping(.5, 3), .5 * 3, 'Clothing shipping calculation not as expected') "
   ]
  },
  {
   "cell_type": "code",
   "execution_count": null,
   "metadata": {},
   "outputs": [],
   "source": [
    "tests = TestClothingClass()\n",
    "tests_loaded = unittest.TestLoader().loadTestsFromModule(tests)\n",
    "unittest.TextTestRunner().run(tests_loaded)"
   ]
  }
 ],
 "metadata": {
  "kernelspec": {
   "display_name": "Python 3",
   "language": "python",
   "name": "python3"
  },
  "language_info": {
   "codemirror_mode": {
    "name": "ipython",
    "version": 3
   },
   "file_extension": ".py",
   "mimetype": "text/x-python",
   "name": "python",
   "nbconvert_exporter": "python",
   "pygments_lexer": "ipython3",
   "version": "3.8.6"
  }
 },
 "nbformat": 4,
 "nbformat_minor": 2
}
