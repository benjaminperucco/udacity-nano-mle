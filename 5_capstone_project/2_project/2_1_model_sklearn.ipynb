{
 "cells": [
  {
   "cell_type": "markdown",
   "metadata": {},
   "source": [
    "# Machine learning models based on scikit-learn framework"
   ]
  },
  {
   "cell_type": "markdown",
   "metadata": {},
   "source": [
    "## Libraries"
   ]
  },
  {
   "cell_type": "code",
   "execution_count": null,
   "metadata": {},
   "outputs": [],
   "source": [
    "import joblib\n",
    "import os\n",
    "import numpy as np\n",
    "from sklearn.metrics import accuracy_score\n",
    "import pandas as pd\n",
    "from sagemaker.session import Session\n",
    "from sagemaker.sklearn.estimator import SKLearn\n",
    "from sagemaker.sklearn.model import SKLearnModel\n",
    "from sagemaker.session import get_execution_role\n",
    "from sagemaker.tuner import HyperparameterTuner, CategoricalParameter, IntegerParameter, ContinuousParameter"
   ]
  },
  {
   "cell_type": "markdown",
   "metadata": {},
   "source": [
    "## Definition of training job functions"
   ]
  },
  {
   "cell_type": "code",
   "execution_count": null,
   "metadata": {},
   "outputs": [],
   "source": [
    "def save_model_results(validation_accuracy, test_accuracy, data, path):\n",
    "    \"\"\"\n",
    "    Save accuracy result from validation data on local instance.\n",
    "    \n",
    "    Args:\n",
    "    - accuracy (float): Accuracy result.\n",
    "    - data (str): Defines the validated dataset.\n",
    "    - path (str): Path where file is saved.\n",
    "    \n",
    "    Returns:\n",
    "    - None: Writes file directly on local filesystem.\n",
    "    \"\"\"\n",
    "        \n",
    "    data_path = '{}/{}.csv'.format(path, data)\n",
    "    if not os.path.exists(path):\n",
    "        os.mkdir(path)\n",
    "        \n",
    "    save_dict = {\n",
    "        'data': data,\n",
    "        'validation_accuracy': validation_accuracy,\n",
    "        'test_accuracy': test_accuracy\n",
    "    }\n",
    "    \n",
    "    accuracy_df = pd.DataFrame.from_dict([save_dict])\n",
    "    accuracy_df.to_csv(data_path, index=False)\n",
    "    print('accuracy save done')"
   ]
  },
  {
   "cell_type": "code",
   "execution_count": null,
   "metadata": {},
   "outputs": [],
   "source": [
    "def save_best_model_parameters(model_data_dict, data, path):\n",
    "    \"\"\"\n",
    "    Saves the model hyperparameters to a file {path}/{data}.\n",
    "    \n",
    "    Args:\n",
    "    - model_data_dict (dict): Dictionary of model hyperparameters.\n",
    "    - data (str): Filename (without .csv).\n",
    "    - path (str): Folder where file will be stored.\n",
    "    \n",
    "    Returns:\n",
    "    - None: A file will be saved.\n",
    "    \"\"\"\n",
    "    \n",
    "    data_path = '{}/{}.csv'.format(path, data)\n",
    "    if not os.path.exists(path):\n",
    "        os.mkdir(path)\n",
    "    \n",
    "    save_dict = {\n",
    "        'data': data,\n",
    "    }\n",
    "    save_dict.update(model_data_dict)\n",
    "    \n",
    "    model_data_df = pd.DataFrame.from_dict([save_dict])\n",
    "    model_data_df.to_csv(data_path, index=False)\n",
    "    print('best model parameter save done') "
   ]
  },
  {
   "cell_type": "code",
   "execution_count": null,
   "metadata": {},
   "outputs": [],
   "source": [
    "def send_predictions_to_model(status_type, predictor, rows, X):\n",
    "    \"\"\"\n",
    "    Send data where a prediction should be made of to an estimator.\n",
    "    \n",
    "    Args:\n",
    "    - status_type (str): Status ['test', 'validation'] to be identified in output.\n",
    "    - predictor (SageMaker predictor endpoint): SageMaker endpoint.\n",
    "    - rows (int): Number of rows of data to be sent to endpoint.\n",
    "    - X (numpy array): Complete numpy array where prediction should be made of.\n",
    "    \n",
    "    Return:\n",
    "    - y_pred (numpy array): Predicted class labels.\n",
    "    \"\"\"\n",
    "    \n",
    "    print('perform {} prediction'.format(status_type), end='')\n",
    "    X_split = np.array_split(X, int(X.shape[0] / float(rows) + 1))\n",
    "        \n",
    "    iteration = 0\n",
    "    prediction_batches = []\n",
    "    for batch in X_split:\n",
    "        iteration += 1\n",
    "        if iteration % 10 == 0:\n",
    "            print('.', end='')\n",
    "        prediction_batches.append(predictor.predict(batch))\n",
    "            \n",
    "    print('done')\n",
    "        \n",
    "    # merge batches together\n",
    "    y_pred = np.concatenate(prediction_batches)  \n",
    "        \n",
    "    return y_pred "
   ]
  },
  {
   "cell_type": "code",
   "execution_count": null,
   "metadata": {},
   "outputs": [],
   "source": [
    "def download_and_extract_model_data(bucket, model_data, session, extract_model_data):\n",
    "    \"\"\"\n",
    "    Read the model data from s3 storage and extracts some parameters.\n",
    "    \n",
    "    Args:\n",
    "    - bucket (str): SageMaker s3 bucket name.\n",
    "    - model_data (str): Model identifier (training job) from SageMaker.\n",
    "    - session (SageMaker session): SageMaker session.\n",
    "    - extract_model_data (dict): Model data to be extracted from the file (keys).\n",
    "    \n",
    "    Returns:\n",
    "    - information (dict): Dictionary with extracted information as requested by the keys extract_model_data.\n",
    "    \"\"\"\n",
    "    \n",
    "    session.download_data('tmp', bucket, key_prefix='{}/output'.format(model_data))\n",
    "    !tar -xzf tmp/model.tar.gz\n",
    "    model_data = joblib.load('model.joblib').get_params()\n",
    "    information = {select_key: model_data[select_key] for select_key in extract_model_data}\n",
    "    \n",
    "    # clean up\n",
    "    !rm -rfd tmp\n",
    "    !rm model.joblib\n",
    "    \n",
    "    return information"
   ]
  },
  {
   "cell_type": "code",
   "execution_count": null,
   "metadata": {},
   "outputs": [],
   "source": [
    "def validate_data(model, data_prefix, dataset_list, base_dict, sweep_dict, n_jobs=10, parallel_jobs=3):\n",
    "    \"\"\"\n",
    "    Perform hyperparmeter search and use best model to predict accuracy on validation data. For hyperparmeter search, \n",
    "    the test data is used. Final evaluated accuracy value will be stored in a directory called validation-{model}.\n",
    "    \n",
    "    Args:\n",
    "    - model (str): Model identifier.\n",
    "    - data_prefix (str): Path on s3 where training, test and validation data is found.\n",
    "    - dataset_list (list of str): Datasets to be tested as list.\n",
    "    - base_dict (dict): Default hyperparameter for the model.\n",
    "    - sweep_dict (dict): Hyperparameter dictionary for search.\n",
    "    - n_jobs (int): Number of hyperparameter combinations.\n",
    "    - parallel_jobs (int): Number of searches executed at the same time.\n",
    "    \n",
    "    Returns:\n",
    "    - None: Accuracy result is stored directly in a file.\n",
    "    \"\"\"\n",
    "    \n",
    "    print('define some SageMaker base parameters...', end='')\n",
    "    \n",
    "    # default sagemaker parameters\n",
    "    role = get_execution_role()\n",
    "    sagemaker_session = Session()\n",
    "    default_bucket = sagemaker_session.default_bucket()\n",
    "    \n",
    "    # metric definition\n",
    "    metrics = {\n",
    "        'Name': 'test-accuracy',\n",
    "        'Regex': 'test-accuracy: ([0-9\\\\.]+)'\n",
    "    }\n",
    "    \n",
    "    # create estimator\n",
    "    set_entry_point = 'train-{}.py'.format(model)\n",
    "    estimator = SKLearn(\n",
    "        role=role,\n",
    "        instance_count=1,\n",
    "        instance_type='ml.c5.2xlarge',\n",
    "        entry_point=set_entry_point, \n",
    "        source_dir='source', \n",
    "        framework_version='0.23-1', \n",
    "        py_version='py3', \n",
    "        hyperparameters=base_dict\n",
    "    )\n",
    "    \n",
    "    print('done')\n",
    "    \n",
    "    for dataset in dataset_list:\n",
    "        \n",
    "        model_name = '{}-{}'.format(model, dataset)\n",
    "        print('evaluate model {}...'.format(model_name))\n",
    "        \n",
    "        # define input data\n",
    "        input_data = []\n",
    "        data_type_list = ['train', 'test', 'validation']\n",
    "        for data_type in data_type_list:\n",
    "            input_data.append('s3://{}/{}/{}-{}'.format(default_bucket, data_prefix, data_type, dataset))\n",
    "        \n",
    "        # configure hyperparameter tuning\n",
    "        tuner = HyperparameterTuner(\n",
    "            estimator=estimator,\n",
    "            objective_metric_name='test-accuracy',\n",
    "            hyperparameter_ranges=sweep_dict,\n",
    "            metric_definitions=[metrics],\n",
    "            max_parallel_jobs=parallel_jobs,\n",
    "            max_jobs=n_jobs,\n",
    "        )\n",
    "        \n",
    "        # start hyperparameter tuning job\n",
    "        print('start tuning', end='')\n",
    "        tuner.fit({'train': input_data[0], 'test': input_data[1]})\n",
    "\n",
    "        # best training job model artifact\n",
    "        best_model_data = 's3://{}/{}/output/model.tar.gz'.format(default_bucket, tuner.best_training_job())\n",
    "        \n",
    "        # download model data and track required tuned parameters        \n",
    "        if model == 'gbc':\n",
    "            extract_parameters = ['max_depth', 'random_state', 'n_estimators', 'learning_rate']\n",
    "        elif model == 'knn':\n",
    "            extract_parameters = ['p', 'weights', 'n_neighbors']\n",
    "        elif model == 'log':\n",
    "            extract_parameters = ['C', 'max_iter']\n",
    "        elif model == 'mlp':\n",
    "            extract_parameters = ['activation', 'hidden_layer_sizes', 'max_iter', 'random_state', 'learning_rate_init']\n",
    "        elif model == 'svc':\n",
    "            extract_parameters = ['random_state', 'degree', 'kernel', 'C']\n",
    "\n",
    "        best_model_parameters = download_and_extract_model_data(\n",
    "            default_bucket, \n",
    "            tuner.best_training_job(), \n",
    "            sagemaker_session,\n",
    "            extract_parameters\n",
    "        )\n",
    "\n",
    "        # create model from training artifacts\n",
    "        best_model = SKLearnModel(\n",
    "            model_data=best_model_data,\n",
    "            role=role,\n",
    "            entry_point=set_entry_point, \n",
    "            source_dir='source', \n",
    "            framework_version='0.23-1',\n",
    "            py_version='py3',\n",
    "        )\n",
    "\n",
    "        # deploy endpoint\n",
    "        print('deploy best model', end='')\n",
    "        best_predictor = best_model.deploy(\n",
    "            initial_instance_count=1, \n",
    "            instance_type='ml.t2.large'\n",
    "        )\n",
    "        print('')\n",
    "\n",
    "        # read validation data\n",
    "        validation_data = pd.read_csv('{}/{}'.format(input_data[2], 'validation.csv'))\n",
    "        validation_y = validation_data.iloc[:, 0]\n",
    "        validation_X = validation_data.iloc[:, 1:]\n",
    "        \n",
    "        # read test data\n",
    "        test_data = pd.read_csv('{}/{}'.format(input_data[1], 'test.csv'))\n",
    "        test_y = test_data.iloc[:, 0]\n",
    "        test_X = test_data.iloc[:, 1:]\n",
    "        \n",
    "        # we have a lot of validation data, so we'll split it into batches of 100\n",
    "        # split the validate data set into batches and evaluate using prediction endpoint  \n",
    "        test_pred_y = send_predictions_to_model('test', best_predictor, 100, test_X.to_numpy())\n",
    "        validation_pred_y = send_predictions_to_model('validation', best_predictor, 100, validation_X.to_numpy())               \n",
    "\n",
    "        # get accuracy metrics\n",
    "        test_accuracy = accuracy_score(test_y, test_pred_y)\n",
    "        print('test model...accuracy: {} %'.format(round(test_accuracy * 100, 1)))\n",
    "        validation_accuracy = accuracy_score(validation_y, validation_pred_y)\n",
    "        print('validate model...accuracy: {} %'.format(round(validation_accuracy * 100, 1)))\n",
    "        \n",
    "        # save model results continuously into files in case something crashes, we have at least old results\n",
    "        validation_prefix = 'validation-{}'.format(model) # add prefix where data will be stored\n",
    "        tuned_model_prefix = 'tuned-model-{}'.format(model) # add prefix where best model data will be stored\n",
    "        save_model_results(validation_accuracy, test_accuracy, dataset, validation_prefix)\n",
    "        save_best_model_parameters(best_model_parameters, dataset, tuned_model_prefix)\n",
    "        \n",
    "        # remove resources\n",
    "        best_predictor.delete_endpoint()\n",
    "                                      "
   ]
  },
  {
   "cell_type": "markdown",
   "metadata": {},
   "source": [
    " ## Parameter for all models"
   ]
  },
  {
   "cell_type": "code",
   "execution_count": null,
   "metadata": {},
   "outputs": [],
   "source": [
    "# data to be validated\n",
    "data = [\n",
    "    'tf-44898-250-1', 'tf-idf-44898-250-1', \n",
    "    'tf-44898-125-1', 'tf-idf-44898-125-1', \n",
    "    'tf-44898-250-2', 'tf-idf-44898-250-2', \n",
    "    'tf-44898-125-2', 'tf-idf-44898-125-2'\n",
    "]"
   ]
  },
  {
   "cell_type": "code",
   "execution_count": null,
   "metadata": {},
   "outputs": [],
   "source": [
    "# hyperparameter search job definition\n",
    "jobs = 8 # we search for 8 combinations in parameter space\n",
    "parallel_jobs = 8 # in parallel, we execute 4 jobs"
   ]
  },
  {
   "cell_type": "markdown",
   "metadata": {},
   "source": [
    "## k nearest neighbors model"
   ]
  },
  {
   "cell_type": "code",
   "execution_count": null,
   "metadata": {},
   "outputs": [],
   "source": [
    "# initial estimator parameters\n",
    "base = {\n",
    "    'param_n_neighbors': 5,\n",
    "    'param_weight': 'uniform',\n",
    "    'param_p': 2\n",
    "}  "
   ]
  },
  {
   "cell_type": "code",
   "execution_count": null,
   "metadata": {},
   "outputs": [],
   "source": [
    "# tunable hyperparameters\n",
    "ranges = {\n",
    "    'param_n_neighbors': IntegerParameter(3, 15),\n",
    "    'param_weight': CategoricalParameter(['uniform', 'distance']),\n",
    "    'param_p': IntegerParameter(1, 8)\n",
    "}"
   ]
  },
  {
   "cell_type": "code",
   "execution_count": null,
   "metadata": {},
   "outputs": [],
   "source": [
    "# perform validation\n",
    "validate_data('knn', 'data', data, base, ranges, jobs, parallel_jobs)"
   ]
  },
  {
   "cell_type": "markdown",
   "metadata": {},
   "source": [
    "## Support vector model"
   ]
  },
  {
   "cell_type": "code",
   "execution_count": null,
   "metadata": {},
   "outputs": [],
   "source": [
    "# initial estimator parameters\n",
    "base = {\n",
    "    'param_random_state': 1,\n",
    "    'param_kernel': 'poly',\n",
    "    'param_C': 1.0,\n",
    "    'param_degree': 3,\n",
    "}  "
   ]
  },
  {
   "cell_type": "code",
   "execution_count": null,
   "metadata": {},
   "outputs": [],
   "source": [
    "# tunable hyperparameters\n",
    "ranges = {\n",
    "    'param_C': ContinuousParameter(0.001, 3.0),\n",
    "    'param_degree': IntegerParameter(2, 3),\n",
    "}"
   ]
  },
  {
   "cell_type": "code",
   "execution_count": null,
   "metadata": {},
   "outputs": [],
   "source": [
    "# perform validation\n",
    "validate_data('svc', 'data', data, base, ranges, jobs, parallel_jobs)"
   ]
  },
  {
   "cell_type": "markdown",
   "metadata": {},
   "source": [
    "## Logistic regression model"
   ]
  },
  {
   "cell_type": "code",
   "execution_count": null,
   "metadata": {},
   "outputs": [],
   "source": [
    "# initial estimator parameters\n",
    "base = {\n",
    "    'param_max_iter': 10000,\n",
    "    'param_C': 1.0,\n",
    "}  "
   ]
  },
  {
   "cell_type": "code",
   "execution_count": null,
   "metadata": {},
   "outputs": [],
   "source": [
    "# tunable hyperparameters\n",
    "ranges = {\n",
    "    'param_C': ContinuousParameter(0.001, 3.0),\n",
    "}"
   ]
  },
  {
   "cell_type": "code",
   "execution_count": null,
   "metadata": {},
   "outputs": [],
   "source": [
    "# perform validation\n",
    "validate_data('log', 'data', data, base, ranges, jobs, parallel_jobs)"
   ]
  },
  {
   "cell_type": "markdown",
   "metadata": {},
   "source": [
    "## Gradient boosting model"
   ]
  },
  {
   "cell_type": "code",
   "execution_count": null,
   "metadata": {},
   "outputs": [],
   "source": [
    "# initial estimator parameters\n",
    "base = {\n",
    "    'param_learning_rate': 0.1,\n",
    "    'param_n_estimators': 100,\n",
    "    'param_random_state': 1,\n",
    "    'param_max_depth': 3,\n",
    "} "
   ]
  },
  {
   "cell_type": "code",
   "execution_count": null,
   "metadata": {},
   "outputs": [],
   "source": [
    "# tunable hyperparameters\n",
    "ranges = {\n",
    "    'param_learning_rate': ContinuousParameter(0.001, 0.5),\n",
    "    'param_n_estimators': IntegerParameter(100, 1000),\n",
    "    'param_max_depth': IntegerParameter(2, 10),\n",
    "}"
   ]
  },
  {
   "cell_type": "code",
   "execution_count": null,
   "metadata": {},
   "outputs": [],
   "source": [
    "# perform validation\n",
    "validate_data('gbc', 'data', data, base, ranges, jobs, parallel_jobs)"
   ]
  },
  {
   "cell_type": "markdown",
   "metadata": {},
   "source": [
    "## Recurrent neural network model"
   ]
  },
  {
   "cell_type": "code",
   "execution_count": null,
   "metadata": {},
   "outputs": [],
   "source": [
    "# initial estimator parameters\n",
    "base = {\n",
    "    'param_hidden_layer_size': 2,\n",
    "    'param_start_hidden_layer': 50,\n",
    "    'param_end_hidden_layer': 10,\n",
    "    'param_learning_rate': 0.001,\n",
    "    'param_random_state': 1,\n",
    "    'param_max_iter': 1000,\n",
    "    'param_activation': 'relu',\n",
    "    'param_start_hidden_layer': 125,\n",
    "    'param_end_hidden_layer': 2,\n",
    "} "
   ]
  },
  {
   "cell_type": "code",
   "execution_count": null,
   "metadata": {},
   "outputs": [],
   "source": [
    "# tunable hyperparameters\n",
    "ranges = {\n",
    "    'param_hidden_layer_size': IntegerParameter(1, 5),\n",
    "    'param_learning_rate': ContinuousParameter(0.001, 0.1),\n",
    "}"
   ]
  },
  {
   "cell_type": "code",
   "execution_count": null,
   "metadata": {},
   "outputs": [],
   "source": [
    "validate_data('mlp', 'data', data, base, ranges, jobs, parallel_jobs)"
   ]
  },
  {
   "cell_type": "code",
   "execution_count": null,
   "metadata": {},
   "outputs": [],
   "source": []
  }
 ],
 "metadata": {
  "kernelspec": {
   "display_name": "Python 3",
   "language": "python",
   "name": "python3"
  },
  "language_info": {
   "codemirror_mode": {
    "name": "ipython",
    "version": 3
   },
   "file_extension": ".py",
   "mimetype": "text/x-python",
   "name": "python",
   "nbconvert_exporter": "python",
   "pygments_lexer": "ipython3",
   "version": "3.9.1"
  }
 },
 "nbformat": 4,
 "nbformat_minor": 4
}
