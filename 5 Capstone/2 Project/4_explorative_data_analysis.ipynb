{
 "cells": [
  {
   "cell_type": "markdown",
   "metadata": {},
   "source": [
    "# Explorative data analysis"
   ]
  },
  {
   "cell_type": "code",
   "execution_count": 203,
   "metadata": {},
   "outputs": [],
   "source": [
    "import os\n",
    "import pandas as pd\n",
    "import numpy as np\n",
    "from sklearn.feature_extraction.text import CountVectorizer\n",
    "import seaborn as sns"
   ]
  },
  {
   "cell_type": "code",
   "execution_count": 204,
   "metadata": {},
   "outputs": [],
   "source": [
    "def count_features(values, keys):\n",
    "    \"\"\"\n",
    "    tbd.\n",
    "    \"\"\"\n",
    "    summed_values = values.sum(axis=0)\n",
    "    zipped_dictionary = zip(summed_values, keys)\n",
    "    sorted_zipped_dictionary = sorted(zipped_dictionary, reverse=True)\n",
    "    return sorted_zipped_dictionary"
   ]
  },
  {
   "cell_type": "code",
   "execution_count": 205,
   "metadata": {},
   "outputs": [],
   "source": [
    "def build_vocabulary(df, feature_size, n_gram_size):\n",
    "    \"\"\"\n",
    "    tbd.\n",
    "    \"\"\"\n",
    "    corpus = df['processed_text'].values\n",
    "    vectorizer = CountVectorizer(max_features=feature_size, ngram_range=(n_gram_size, n_gram_size))\n",
    "    feature_matrix = vectorizer.fit_transform(corpus)\n",
    "    feature_vocabulary = vectorizer.get_feature_names() # feature order\n",
    "    return feature_vocabulary, feature_matrix.toarray()"
   ]
  },
  {
   "cell_type": "code",
   "execution_count": 206,
   "metadata": {},
   "outputs": [],
   "source": [
    "def ngram_statistics(df, select_class, feature_size, n_gram_size):\n",
    "    \"\"\"\n",
    "    tbd.\n",
    "    \"\"\"\n",
    "    selected_df = df.loc[df['class'] == select_class]\n",
    "    vocabulary, matrix = build_vocabulary(selected_df, feature_size, n_gram_size)\n",
    "    statistics = count_features(matrix, vocabulary)\n",
    "    return statistics"
   ]
  },
  {
   "cell_type": "code",
   "execution_count": 207,
   "metadata": {},
   "outputs": [],
   "source": [
    "def split_tuples(list_1, list_2):\n",
    "    \"\"\"\n",
    "    tbd.\n",
    "    \"\"\"\n",
    "    dict_1 = {}\n",
    "    for detail in list_1:\n",
    "        tmp_dict = {detail[1]: detail[0]}\n",
    "        dict_1.update(tmp_dict)\n",
    "    \n",
    "    dict_2 = {}\n",
    "    for detail in list_2:\n",
    "        tmp_dict = {detail[1]: detail[0]}\n",
    "        dict_2.update(tmp_dict)\n",
    "    \n",
    "    \n",
    "    return dict_1, dict_2"
   ]
  },
  {
   "cell_type": "code",
   "execution_count": 208,
   "metadata": {},
   "outputs": [],
   "source": [
    "def add_dicts(dict_1, dict_2):\n",
    "    \"\"\"\n",
    "    tbd.\n",
    "    \"\"\"\n",
    "    summed_dict = dict_2\n",
    "    for key in dict_1:\n",
    "        if key in dict_2:\n",
    "            summed_dict[key] = dict_2[key] + dict_1[key]\n",
    "        else:\n",
    "            summed_dict.update({key: dict_1[key]}) \n",
    "    \n",
    "    return summed_dict"
   ]
  },
  {
   "cell_type": "code",
   "execution_count": 209,
   "metadata": {},
   "outputs": [],
   "source": [
    "def create_df_from_dict(from_dict, add_class):\n",
    "    \"\"\"\n",
    "    tbd.\n",
    "    \"\"\"\n",
    "    import_dict = {'key': list(from_dict.keys()), 'value': list(from_dict.values())}\n",
    "    df = pd.DataFrame.from_dict(import_dict)\n",
    "    df['class'] = add_class\n",
    "    return df"
   ]
  },
  {
   "cell_type": "code",
   "execution_count": 210,
   "metadata": {},
   "outputs": [],
   "source": [
    "def get_merged_vocabulary(df, feature_size, n_gram_size):\n",
    "    \"\"\"\n",
    "    tbd.\n",
    "    \"\"\"\n",
    "    # create statistics\n",
    "    n_gram_0 = ngram_statistics(df, 0, feature_size, n_gram_size)\n",
    "    n_gram_1 = ngram_statistics(df, 1, feature_size, n_gram_size)\n",
    "    \n",
    "    # create dicts from tuples\n",
    "    dict_0, dict_1 = split_tuples(n_gram_0, n_gram_1)\n",
    "    \n",
    "    # create dataframes\n",
    "    df_0 = create_df_from_dict(dict_0, 0)\n",
    "    df_1 = create_df_from_dict(dict_1, 1)\n",
    "    \n",
    "    # merge dataframes\n",
    "    df = pd.concat([df_0, df_1], axis=0)\n",
    "    df.reset_index(drop=True, inplace=True)\n",
    "    \n",
    "    return df"
   ]
  },
  {
   "cell_type": "markdown",
   "metadata": {},
   "source": [
    "## Determine 20 most used 1-gram per class and make a plot"
   ]
  },
  {
   "cell_type": "code",
   "execution_count": 211,
   "metadata": {},
   "outputs": [
    {
     "data": {
      "text/html": [
       "<div>\n",
       "<style scoped>\n",
       "    .dataframe tbody tr th:only-of-type {\n",
       "        vertical-align: middle;\n",
       "    }\n",
       "\n",
       "    .dataframe tbody tr th {\n",
       "        vertical-align: top;\n",
       "    }\n",
       "\n",
       "    .dataframe thead th {\n",
       "        text-align: right;\n",
       "    }\n",
       "</style>\n",
       "<table border=\"1\" class=\"dataframe\">\n",
       "  <thead>\n",
       "    <tr style=\"text-align: right;\">\n",
       "      <th></th>\n",
       "      <th>class</th>\n",
       "      <th>processed_text</th>\n",
       "    </tr>\n",
       "  </thead>\n",
       "  <tbody>\n",
       "    <tr>\n",
       "      <th>0</th>\n",
       "      <td>0</td>\n",
       "      <td>nigerian presid say cannot afford return delta...</td>\n",
       "    </tr>\n",
       "    <tr>\n",
       "      <th>1</th>\n",
       "      <td>0</td>\n",
       "      <td>least four kill british motorway crash polic l...</td>\n",
       "    </tr>\n",
       "  </tbody>\n",
       "</table>\n",
       "</div>"
      ],
      "text/plain": [
       "   class                                     processed_text\n",
       "0      0  nigerian presid say cannot afford return delta...\n",
       "1      0  least four kill british motorway crash polic l..."
      ]
     },
     "execution_count": 211,
     "metadata": {},
     "output_type": "execute_result"
    }
   ],
   "source": [
    "# import corpus data\n",
    "corpus = pd.read_csv('{}/{}'.format('data', 'corpus-44898.csv'))\n",
    "corpus.head(2)"
   ]
  },
  {
   "cell_type": "code",
   "execution_count": 212,
   "metadata": {},
   "outputs": [],
   "source": [
    "results = get_merged_vocabulary(corpus, 20, 1)"
   ]
  },
  {
   "cell_type": "markdown",
   "metadata": {},
   "source": [
    "## Plot"
   ]
  },
  {
   "cell_type": "code",
   "execution_count": 213,
   "metadata": {},
   "outputs": [],
   "source": [
    "def create_plot(df, x, y, group, output):\n",
    "    \"\"\"\n",
    "    tbd.\n",
    "    \"\"\"\n",
    "    %matplotlib inline\n",
    "    sns.set_style(style='whitegrid')\n",
    "    g = sns.catplot(\n",
    "        data=df, kind='bar',\n",
    "        x=x, y=y, hue=group, \n",
    "        palette='dark', alpha=.7, height=8.27, aspect=11.7/8.27\n",
    "    )\n",
    "    g.set_xticklabels(rotation=90)\n",
    "    g.savefig(output)"
   ]
  },
  {
   "cell_type": "code",
   "execution_count": 214,
   "metadata": {},
   "outputs": [
    {
     "data": {
      "image/png": "[encoded data removed]",
      "text/plain": [
       "<Figure size 889x595.44 with 1 Axes>"
      ]
     },
     "metadata": {},
     "output_type": "display_data"
    }
   ],
   "source": [
    "create_plot(results, 'key', 'value', 'class', 'output.png')"
   ]
  },
  {
   "cell_type": "code",
   "execution_count": null,
   "metadata": {},
   "outputs": [],
   "source": []
  }
 ],
 "metadata": {
  "kernelspec": {
   "display_name": "conda_pytorch_p36",
   "language": "python",
   "name": "conda_pytorch_p36"
  },
  "language_info": {
   "codemirror_mode": {
    "name": "ipython",
    "version": 3
   },
   "file_extension": ".py",
   "mimetype": "text/x-python",
   "name": "python",
   "nbconvert_exporter": "python",
   "pygments_lexer": "ipython3",
   "version": "3.6.10"
  }
 },
 "nbformat": 4,
 "nbformat_minor": 4
}
