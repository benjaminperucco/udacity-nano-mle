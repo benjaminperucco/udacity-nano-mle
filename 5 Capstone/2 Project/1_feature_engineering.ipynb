{
 "cells": [
  {
   "cell_type": "markdown",
   "metadata": {},
   "source": [
    "# Feature engineering"
   ]
  },
  {
   "cell_type": "code",
   "execution_count": null,
   "metadata": {},
   "outputs": [],
   "source": [
    "import pandas as pd\n",
    "import numpy as np\n",
    "from sklearn.feature_extraction.text import CountVectorizer"
   ]
  },
  {
   "cell_type": "code",
   "execution_count": null,
   "metadata": {},
   "outputs": [],
   "source": [
    "# parameters\n",
    "data_path = 'data'\n",
    "data_set = 'clean_document.csv'\n",
    "term_frequency_data_set = 'term_frequency.csv'"
   ]
  },
  {
   "cell_type": "code",
   "execution_count": null,
   "metadata": {},
   "outputs": [],
   "source": [
    "complete_corpus = pd.read_csv('{}/{}'.format(data_path, data_set))\n",
    "complete_corpus.head()"
   ]
  },
  {
   "cell_type": "code",
   "execution_count": null,
   "metadata": {},
   "outputs": [],
   "source": [
    "def count_features(values, keys):\n",
    "    summed_values = values.sum(axis=0)\n",
    "    zipped_dictionary = zip(summed_values, keys)\n",
    "    sorted_zipped_dictionary = sorted(zipped_dictionary, reverse=True)\n",
    "    return sorted_zipped_dictionary"
   ]
  },
  {
   "cell_type": "code",
   "execution_count": null,
   "metadata": {},
   "outputs": [],
   "source": [
    "def calculate_term_frequency(X):\n",
    "    term_frequency_array = np.zeros(shape=X.shape)\n",
    "    iteration = 0\n",
    "    for array in X:\n",
    "        if array.sum() > 0:\n",
    "            term_frequency_array[iteration] = array / array.sum()\n",
    "        else:\n",
    "            term_frequency_array[iteration] = array\n",
    "        iteration += 1\n",
    "    return term_frequency_array        "
   ]
  },
  {
   "cell_type": "code",
   "execution_count": null,
   "metadata": {},
   "outputs": [],
   "source": [
    "def test_calculate_term_frequency():\n",
    "    X = np.array([[4, 2, 7, 4, 9, 1, 0], \n",
    "                  [6, 3, 2, 0, 0, 8, 1]])\n",
    "    Y = calculate_term_frequency(X)\n",
    "    Y_result = np.array([[4/27, 2/27, 7/27, 4/27, 9/27, 1/27, 0/27], \n",
    "                         [6/20, 3/20, 2/20, 0/20, 0/20, 8/20, 1/20]])\n",
    "    comparison = Y == Y_result\n",
    "    equal_arrays = comparison.all()\n",
    "    assert equal_arrays == True, 'test_calculate_term_frequency: check of test failed'\n",
    "    print('all test_calculate_term_frequency tests passed')"
   ]
  },
  {
   "cell_type": "code",
   "execution_count": null,
   "metadata": {},
   "outputs": [],
   "source": [
    "test_calculate_term_frequency()"
   ]
  },
  {
   "cell_type": "code",
   "execution_count": null,
   "metadata": {},
   "outputs": [],
   "source": [
    "def calculate_term_frequency_inverse_document_frequency(X):\n",
    "    inverse_document_frequency = np.zeros(shape=X.shape)\n",
    "    term_frequency = calculate_term_frequency(X)\n",
    "    corpus_sum = term_frequency # matrix term_frequency is used later, therefore create a copy\n",
    "    \n",
    "    # count an n-gram only once per document\n",
    "    corpus_sum[corpus_sum > 0] = 1\n",
    "    \n",
    "    # inverse document frequency (idf) is the number of documents in the corpus (here X.shape[0]), \n",
    "    # divided by the number of documents where a word appears\n",
    "    idf_single_array = 1 + np.log(X.shape[0] / corpus_sum.sum(axis=0)) # sum over all documents\n",
    "\n",
    "    # for matrix matrix multiplication between term_freq and term_freq_inv_doc_freq elementwise\n",
    "    iteration = 0\n",
    "    for array in X:\n",
    "        inverse_document_frequency[iteration] = idf_single_array\n",
    "        iteration += 1\n",
    "        \n",
    "    term_frequency_inverse_document_frequency = np.multiply(term_frequency, inverse_document_frequency)\n",
    "    return term_frequency_inverse_document_frequency"
   ]
  },
  {
   "cell_type": "code",
   "execution_count": null,
   "metadata": {},
   "outputs": [],
   "source": [
    "def build_vocabulary(df, feature_size, n_gram_size):\n",
    "    corpus = df['processed_text'].values\n",
    "    vectorizer = CountVectorizer(max_features=feature_size, ngram_range=(n_gram_size, n_gram_size))\n",
    "    feature_matrix = vectorizer.fit_transform(corpus)\n",
    "    feature_vocabulary = vectorizer.get_feature_names() # feature order\n",
    "    return feature_vocabulary, feature_matrix.toarray()"
   ]
  },
  {
   "cell_type": "code",
   "execution_count": null,
   "metadata": {},
   "outputs": [],
   "source": [
    "def build_feature(df, feature_size, n_gram_size):\n",
    "    \"\"\"\n",
    "    Build the features necessary for machine learning. \n",
    "    \n",
    "    Args:\n",
    "    df: (dataframe) Corpus with processed texts saved as feature 'processed_text' and its corresponding class \n",
    "    available as 'class'.\n",
    "    feature_size: (int) Defines the number of top n-grams extracted from the corpus.\n",
    "    n_gram_size: (int) Defines the n-gram size (contiguous sequence of items with length n).\n",
    "    \n",
    "    Returns:\n",
    "    feature_vocabulary: (list of n-grams) The vocabulary with the top feature_size n-grams.\n",
    "    feature_occurance: (numpy array) The occurance matrix of n-grams, number of rows = feature_size, \n",
    "    number of columns = corpus length.\n",
    "    feature_statistics: (dictionary) Dictionary with size feature_size sorted according to top n-gram.\n",
    "    term_freq: (numpy array) Term frequency matrix\n",
    "    term_freq_inverse_doc_freq: (numpy array) Maxrix according to term frequency inverse document frequency model.\n",
    "    \"\"\"\n",
    "    feature_vocabulary, feature_occurance = build_vocabulary(complete_corpus, feature_size, n_gram_size)\n",
    "    feature_statistics = count_features(feature_occurance, feature_vocabulary)\n",
    "    term_freq = calculate_term_frequency(feature_occurance)\n",
    "    term_freq_inverse_doc_freq = calculate_term_frequency_inverse_document_frequency(feature_occurance)\n",
    "    return feature_vocabulary, feature_occurance, feature_statistics, term_freq, term_freq_inverse_doc_freq"
   ]
  },
  {
   "cell_type": "markdown",
   "metadata": {},
   "source": [
    "# Test case\n",
    "\n",
    "Define a test case with 10 most used words in the corups and a n-gram of 1."
   ]
  },
  {
   "cell_type": "code",
   "execution_count": null,
   "metadata": {},
   "outputs": [],
   "source": [
    "vocabulary, occurance, statistics, term_freq, term_freq_inverse_doc_freq = build_feature(complete_corpus, 10, 1)"
   ]
  },
  {
   "cell_type": "code",
   "execution_count": null,
   "metadata": {},
   "outputs": [],
   "source": [
    "vocabulary"
   ]
  },
  {
   "cell_type": "code",
   "execution_count": null,
   "metadata": {},
   "outputs": [],
   "source": [
    "occurance"
   ]
  },
  {
   "cell_type": "code",
   "execution_count": null,
   "metadata": {},
   "outputs": [],
   "source": [
    "statistics"
   ]
  },
  {
   "cell_type": "code",
   "execution_count": null,
   "metadata": {},
   "outputs": [],
   "source": [
    "term_freq"
   ]
  },
  {
   "cell_type": "code",
   "execution_count": null,
   "metadata": {},
   "outputs": [],
   "source": [
    "term_freq_inverse_doc_freq"
   ]
  },
  {
   "cell_type": "markdown",
   "metadata": {},
   "source": [
    "# Create datasets"
   ]
  },
  {
   "cell_type": "code",
   "execution_count": null,
   "metadata": {},
   "outputs": [],
   "source": [
    "temp_term_frequency = pd.DataFrame(term_frequency, columns=feature_vocabulary)\n",
    "temp_term_frequency.head()"
   ]
  },
  {
   "cell_type": "code",
   "execution_count": null,
   "metadata": {},
   "outputs": [],
   "source": [
    "term_frequency = pd.concat([document['class'], temp_term_frequency], axis=1)\n",
    "term_frequency.head()"
   ]
  },
  {
   "cell_type": "code",
   "execution_count": null,
   "metadata": {},
   "outputs": [],
   "source": [
    "def save_document(df, data_path, data_set):\n",
    "    df.drop_duplicates(inplace=True)\n",
    "    df.to_csv('{}/{}'.format(data_path, data_set), index=False)\n",
    "    print('{} saved'.format(data_set))"
   ]
  },
  {
   "cell_type": "code",
   "execution_count": null,
   "metadata": {},
   "outputs": [],
   "source": [
    "save_document(term_frequency, data_path, term_frequency_data_set)"
   ]
  },
  {
   "cell_type": "code",
   "execution_count": null,
   "metadata": {},
   "outputs": [],
   "source": []
  }
 ],
 "metadata": {
  "kernelspec": {
   "display_name": "conda_pytorch_p36",
   "language": "python",
   "name": "conda_pytorch_p36"
  },
  "language_info": {
   "codemirror_mode": {
    "name": "ipython",
    "version": 3
   },
   "file_extension": ".py",
   "mimetype": "text/x-python",
   "name": "python",
   "nbconvert_exporter": "python",
   "pygments_lexer": "ipython3",
   "version": "3.6.10"
  }
 },
 "nbformat": 4,
 "nbformat_minor": 4
}
