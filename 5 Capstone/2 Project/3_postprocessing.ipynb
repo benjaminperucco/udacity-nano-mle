{
 "cells": [
  {
   "cell_type": "markdown",
   "metadata": {},
   "source": [
    "# Postprocessing"
   ]
  },
  {
   "cell_type": "code",
   "execution_count": null,
   "metadata": {},
   "outputs": [],
   "source": [
    "import re\n",
    "import os\n",
    "import pandas as pd"
   ]
  },
  {
   "cell_type": "code",
   "execution_count": null,
   "metadata": {},
   "outputs": [],
   "source": [
    "def read_validation_directory():\n",
    "    available_content = os.listdir('.') \n",
    "    select_pattern = re.compile('^validation-[a-z][a-z][a-z]')\n",
    "    selected_dir = [content for content in available_content if select_pattern.match(content)]\n",
    "    return selected_dir"
   ]
  },
  {
   "cell_type": "code",
   "execution_count": null,
   "metadata": {},
   "outputs": [],
   "source": [
    "def read_validation_directory_content(validation_directories):\n",
    "    iteration = 0\n",
    "    for directory in validation_directories:\n",
    "        available_content = os.listdir(directory)\n",
    "        for file in available_content:\n",
    "            if iteration == 0:\n",
    "                imported_data = pd.read_csv('{}/{}'.format(directory, file))\n",
    "                imported_data['model'] = directory[11:]\n",
    "            else:\n",
    "                tmp_data = pd.read_csv('{}/{}'.format(directory, file)) \n",
    "                tmp_data['model'] = directory[11:] \n",
    "                imported_data = pd.concat([imported_data, tmp_data])\n",
    "            iteration += 1\n",
    "    \n",
    "    imported_data.reset_index(drop=True, inplace=True)\n",
    "    return imported_data"
   ]
  },
  {
   "cell_type": "code",
   "execution_count": null,
   "metadata": {},
   "outputs": [],
   "source": [
    "def text_split(x):\n",
    "    y = x.split('-')\n",
    "    return y"
   ]
  },
  {
   "cell_type": "code",
   "execution_count": null,
   "metadata": {},
   "outputs": [],
   "source": [
    "def extract_feature_information(df):\n",
    "    \n",
    "    df_splitted = df['data'].apply(text_split)\n",
    "    \n",
    "    feature_method_list = []\n",
    "    document_size_list = []\n",
    "    feature_size_list = []\n",
    "    ngram_size_list = []\n",
    "    \n",
    "    for splitted_entries in df_splitted:\n",
    "        if splitted_entries[1] == 'idf': # inverse document frequency case\n",
    "            feature_method_list.append('tf-idf')\n",
    "            document_size_list.append(splitted_entries[2])\n",
    "            feature_size_list.append(splitted_entries[3])\n",
    "            ngram_size_list.append(splitted_entries[4])\n",
    "        else:\n",
    "            feature_method_list.append('tf')\n",
    "            document_size_list.append(splitted_entries[1])\n",
    "            feature_size_list.append(splitted_entries[2])\n",
    "            ngram_size_list.append(splitted_entries[3])\n",
    "    \n",
    "    df['method'] = feature_method_list\n",
    "    df['doc'] = document_size_list\n",
    "    df['feature'] = feature_size_list\n",
    "    df['ngram'] = ngram_size_list\n",
    "    df.drop(['data'], axis=1, inplace=True)\n",
    "    \n",
    "    \n",
    "    return df"
   ]
  },
  {
   "cell_type": "code",
   "execution_count": null,
   "metadata": {},
   "outputs": [],
   "source": [
    "def to_percent(x):\n",
    "    return round(x * 100, 2)"
   ]
  },
  {
   "cell_type": "code",
   "execution_count": null,
   "metadata": {},
   "outputs": [],
   "source": [
    "def read_results():\n",
    "    validation_directories = read_validation_directory()\n",
    "    raw_results = read_validation_directory_content(validation_directories)\n",
    "    results = extract_feature_information(raw_results)\n",
    "    results.sort_values(by=['validation_accuracy'], ascending=False, inplace=True)\n",
    "    results['validation_accuracy'] = to_percent(results['validation_accuracy'])\n",
    "    results['test_accuracy'] = to_percent(results['test_accuracy'])\n",
    "    return results"
   ]
  },
  {
   "cell_type": "code",
   "execution_count": null,
   "metadata": {},
   "outputs": [],
   "source": [
    "# read from all validation directories the accuracy and determine model settings\n",
    "results = read_results()\n",
    "results.head(results.shape[0]) # display all"
   ]
  },
  {
   "cell_type": "code",
   "execution_count": null,
   "metadata": {},
   "outputs": [],
   "source": []
  }
 ],
 "metadata": {
  "kernelspec": {
   "display_name": "conda_pytorch_p36",
   "language": "python",
   "name": "conda_pytorch_p36"
  },
  "language_info": {
   "codemirror_mode": {
    "name": "ipython",
    "version": 3
   },
   "file_extension": ".py",
   "mimetype": "text/x-python",
   "name": "python",
   "nbconvert_exporter": "python",
   "pygments_lexer": "ipython3",
   "version": "3.6.10"
  }
 },
 "nbformat": 4,
 "nbformat_minor": 4
}
