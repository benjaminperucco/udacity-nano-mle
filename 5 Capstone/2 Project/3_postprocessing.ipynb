{
 "cells": [
  {
   "cell_type": "markdown",
   "metadata": {},
   "source": [
    "# Postprocessing"
   ]
  },
  {
   "cell_type": "code",
   "execution_count": 15,
   "metadata": {},
   "outputs": [],
   "source": [
    "import re\n",
    "import os\n",
    "import pandas as pd"
   ]
  },
  {
   "cell_type": "code",
   "execution_count": 12,
   "metadata": {},
   "outputs": [],
   "source": [
    "def read_validation_directory():\n",
    "    available_content = os.listdir('.') \n",
    "    select_pattern = re.compile('^validation-[a-z][a-z][a-z]')\n",
    "    selected_dir = [content for content in available_content if select_pattern.match(content)]\n",
    "    return selected_dir"
   ]
  },
  {
   "cell_type": "code",
   "execution_count": 34,
   "metadata": {},
   "outputs": [],
   "source": [
    "def read_validation_directory_content(validation_directories):\n",
    "    iteration = 0\n",
    "    for directory in validation_directories:\n",
    "        available_content = os.listdir(directory)\n",
    "        for file in available_content:\n",
    "            if iteration == 0:\n",
    "                imported_data = pd.read_csv('{}/{}'.format(directory, file))\n",
    "                imported_data['model'] = directory[11:]\n",
    "            else:\n",
    "                tmp_data = pd.read_csv('{}/{}'.format(directory, file)) \n",
    "                tmp_data['model'] = directory[11:] \n",
    "                imported_data = pd.concat([imported_data, tmp_data])\n",
    "            iteration += 1\n",
    "    \n",
    "    imported_data.reset_index(drop=True, inplace=True)\n",
    "    return imported_data"
   ]
  },
  {
   "cell_type": "code",
   "execution_count": null,
   "metadata": {},
   "outputs": [],
   "source": [
    "def text_split(x):\n",
    "    y = x.split('-')\n",
    "    return y"
   ]
  },
  {
   "cell_type": "code",
   "execution_count": 76,
   "metadata": {},
   "outputs": [],
   "source": [
    "def extract_feature_information(df):\n",
    "    \n",
    "    df_splitted = df['data'].apply(text_split)\n",
    "    \n",
    "    feature_method_list = []\n",
    "    document_size_list = []\n",
    "    feature_size_list = []\n",
    "    ngram_size_list = []\n",
    "    \n",
    "    for splitted_entries in df_splitted:\n",
    "        if splitted_entries[1] == 'idf': # inverse document frequency case\n",
    "            feature_method_list.append('tf-idf')\n",
    "            document_size_list.append(splitted_entries[2])\n",
    "            feature_size_list.append(splitted_entries[3])\n",
    "            ngram_size_list.append(splitted_entries[4])\n",
    "        else:\n",
    "            feature_method_list.append('tf')\n",
    "            document_size_list.append(splitted_entries[1])\n",
    "            feature_size_list.append(splitted_entries[2])\n",
    "            ngram_size_list.append(splitted_entries[3])\n",
    "    \n",
    "    df['method'] = feature_method_list\n",
    "    df['doc'] = document_size_list\n",
    "    df['feature'] = feature_size_list\n",
    "    df['ngram'] = ngram_size_list\n",
    "    df.drop(['data'], axis=1, inplace=True)\n",
    "    \n",
    "    \n",
    "    return df"
   ]
  },
  {
   "cell_type": "code",
   "execution_count": 77,
   "metadata": {},
   "outputs": [
    {
     "data": {
      "text/html": [
       "<div>\n",
       "<style scoped>\n",
       "    .dataframe tbody tr th:only-of-type {\n",
       "        vertical-align: middle;\n",
       "    }\n",
       "\n",
       "    .dataframe tbody tr th {\n",
       "        vertical-align: top;\n",
       "    }\n",
       "\n",
       "    .dataframe thead th {\n",
       "        text-align: right;\n",
       "    }\n",
       "</style>\n",
       "<table border=\"1\" class=\"dataframe\">\n",
       "  <thead>\n",
       "    <tr style=\"text-align: right;\">\n",
       "      <th></th>\n",
       "      <th>accuracy</th>\n",
       "      <th>model</th>\n",
       "      <th>method</th>\n",
       "      <th>doc</th>\n",
       "      <th>feature</th>\n",
       "      <th>ngram</th>\n",
       "    </tr>\n",
       "  </thead>\n",
       "  <tbody>\n",
       "    <tr>\n",
       "      <th>0</th>\n",
       "      <td>0.793279</td>\n",
       "      <td>knn</td>\n",
       "      <td>tf</td>\n",
       "      <td>5000</td>\n",
       "      <td>1000</td>\n",
       "      <td>1</td>\n",
       "    </tr>\n",
       "    <tr>\n",
       "      <th>1</th>\n",
       "      <td>0.615071</td>\n",
       "      <td>knn</td>\n",
       "      <td>tf-idf</td>\n",
       "      <td>5000</td>\n",
       "      <td>1000</td>\n",
       "      <td>1</td>\n",
       "    </tr>\n",
       "    <tr>\n",
       "      <th>2</th>\n",
       "      <td>0.914460</td>\n",
       "      <td>svc</td>\n",
       "      <td>tf</td>\n",
       "      <td>5000</td>\n",
       "      <td>1000</td>\n",
       "      <td>1</td>\n",
       "    </tr>\n",
       "  </tbody>\n",
       "</table>\n",
       "</div>"
      ],
      "text/plain": [
       "   accuracy model  method   doc feature ngram\n",
       "0  0.793279   knn      tf  5000    1000     1\n",
       "1  0.615071   knn  tf-idf  5000    1000     1\n",
       "2  0.914460   svc      tf  5000    1000     1"
      ]
     },
     "execution_count": 77,
     "metadata": {},
     "output_type": "execute_result"
    }
   ],
   "source": [
    "# read from all validation directories the accuracy and determine model settings\n",
    "validation_directories = read_validation_directory()\n",
    "raw_results = read_validation_directory_content(validation_directories)\n",
    "results = extract_feature_information(raw_results)\n",
    "results.head()"
   ]
  },
  {
   "cell_type": "code",
   "execution_count": 81,
   "metadata": {},
   "outputs": [
    {
     "data": {
      "text/html": [
       "<div>\n",
       "<style scoped>\n",
       "    .dataframe tbody tr th:only-of-type {\n",
       "        vertical-align: middle;\n",
       "    }\n",
       "\n",
       "    .dataframe tbody tr th {\n",
       "        vertical-align: top;\n",
       "    }\n",
       "\n",
       "    .dataframe thead th {\n",
       "        text-align: right;\n",
       "    }\n",
       "</style>\n",
       "<table border=\"1\" class=\"dataframe\">\n",
       "  <thead>\n",
       "    <tr style=\"text-align: right;\">\n",
       "      <th></th>\n",
       "      <th>accuracy</th>\n",
       "      <th>model</th>\n",
       "      <th>method</th>\n",
       "      <th>doc</th>\n",
       "      <th>feature</th>\n",
       "      <th>ngram</th>\n",
       "    </tr>\n",
       "  </thead>\n",
       "  <tbody>\n",
       "    <tr>\n",
       "      <th>2</th>\n",
       "      <td>0.914460</td>\n",
       "      <td>svc</td>\n",
       "      <td>tf</td>\n",
       "      <td>5000</td>\n",
       "      <td>1000</td>\n",
       "      <td>1</td>\n",
       "    </tr>\n",
       "    <tr>\n",
       "      <th>0</th>\n",
       "      <td>0.793279</td>\n",
       "      <td>knn</td>\n",
       "      <td>tf</td>\n",
       "      <td>5000</td>\n",
       "      <td>1000</td>\n",
       "      <td>1</td>\n",
       "    </tr>\n",
       "    <tr>\n",
       "      <th>1</th>\n",
       "      <td>0.615071</td>\n",
       "      <td>knn</td>\n",
       "      <td>tf-idf</td>\n",
       "      <td>5000</td>\n",
       "      <td>1000</td>\n",
       "      <td>1</td>\n",
       "    </tr>\n",
       "  </tbody>\n",
       "</table>\n",
       "</div>"
      ],
      "text/plain": [
       "   accuracy model  method   doc feature ngram\n",
       "2  0.914460   svc      tf  5000    1000     1\n",
       "0  0.793279   knn      tf  5000    1000     1\n",
       "1  0.615071   knn  tf-idf  5000    1000     1"
      ]
     },
     "execution_count": 81,
     "metadata": {},
     "output_type": "execute_result"
    }
   ],
   "source": [
    "# display results according to accuracy\n",
    "results.sort_values(by=['accuracy'], ascending=False, inplace=True)\n",
    "results.head(results.shape[0]) # display all"
   ]
  },
  {
   "cell_type": "code",
   "execution_count": null,
   "metadata": {},
   "outputs": [],
   "source": []
  }
 ],
 "metadata": {
  "kernelspec": {
   "display_name": "conda_pytorch_p36",
   "language": "python",
   "name": "conda_pytorch_p36"
  },
  "language_info": {
   "codemirror_mode": {
    "name": "ipython",
    "version": 3
   },
   "file_extension": ".py",
   "mimetype": "text/x-python",
   "name": "python",
   "nbconvert_exporter": "python",
   "pygments_lexer": "ipython3",
   "version": "3.6.10"
  }
 },
 "nbformat": 4,
 "nbformat_minor": 4
}
