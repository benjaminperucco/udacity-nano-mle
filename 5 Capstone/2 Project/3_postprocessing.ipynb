{
 "cells": [
  {
   "cell_type": "markdown",
   "metadata": {},
   "source": [
    "# Postprocessing"
   ]
  },
  {
   "cell_type": "code",
   "execution_count": 15,
   "metadata": {},
   "outputs": [],
   "source": [
    "import re\n",
    "import os\n",
    "import pandas as pd"
   ]
  },
  {
   "cell_type": "code",
   "execution_count": 12,
   "metadata": {},
   "outputs": [],
   "source": [
    "def read_validation_directory():\n",
    "    available_content = os.listdir('.') \n",
    "    select_pattern = re.compile('^validation-[a-z][a-z][a-z]')\n",
    "    selected_dir = [content for content in available_content if select_pattern.match(content)]\n",
    "    return selected_dir"
   ]
  },
  {
   "cell_type": "code",
   "execution_count": 34,
   "metadata": {},
   "outputs": [],
   "source": [
    "def read_validation_directory_content(validation_directories):\n",
    "    iteration = 0\n",
    "    for directory in validation_directories:\n",
    "        available_content = os.listdir(directory)\n",
    "        for file in available_content:\n",
    "            if iteration == 0:\n",
    "                imported_data = pd.read_csv('{}/{}'.format(directory, file))\n",
    "                imported_data['model'] = directory[11:]\n",
    "            else:\n",
    "                tmp_data = pd.read_csv('{}/{}'.format(directory, file)) \n",
    "                tmp_data['model'] = directory[11:] \n",
    "                imported_data = pd.concat([imported_data, tmp_data])\n",
    "            iteration += 1\n",
    "    \n",
    "    imported_data.reset_index(drop=True, inplace=True)\n",
    "    return imported_data"
   ]
  },
  {
   "cell_type": "code",
   "execution_count": 35,
   "metadata": {},
   "outputs": [],
   "source": [
    "x = read_validation_directory()"
   ]
  },
  {
   "cell_type": "code",
   "execution_count": 36,
   "metadata": {},
   "outputs": [],
   "source": [
    "y = read_validation_directory_content(x)"
   ]
  },
  {
   "cell_type": "code",
   "execution_count": 37,
   "metadata": {},
   "outputs": [
    {
     "data": {
      "text/html": [
       "<div>\n",
       "<style scoped>\n",
       "    .dataframe tbody tr th:only-of-type {\n",
       "        vertical-align: middle;\n",
       "    }\n",
       "\n",
       "    .dataframe tbody tr th {\n",
       "        vertical-align: top;\n",
       "    }\n",
       "\n",
       "    .dataframe thead th {\n",
       "        text-align: right;\n",
       "    }\n",
       "</style>\n",
       "<table border=\"1\" class=\"dataframe\">\n",
       "  <thead>\n",
       "    <tr style=\"text-align: right;\">\n",
       "      <th></th>\n",
       "      <th>data</th>\n",
       "      <th>accuracy</th>\n",
       "      <th>model</th>\n",
       "    </tr>\n",
       "  </thead>\n",
       "  <tbody>\n",
       "    <tr>\n",
       "      <th>0</th>\n",
       "      <td>tf-5000-1000-1</td>\n",
       "      <td>0.793279</td>\n",
       "      <td>knn</td>\n",
       "    </tr>\n",
       "    <tr>\n",
       "      <th>1</th>\n",
       "      <td>tf-idf-5000-1000-1</td>\n",
       "      <td>0.615071</td>\n",
       "      <td>knn</td>\n",
       "    </tr>\n",
       "    <tr>\n",
       "      <th>2</th>\n",
       "      <td>tf-5000-1000-1</td>\n",
       "      <td>0.914460</td>\n",
       "      <td>svc</td>\n",
       "    </tr>\n",
       "  </tbody>\n",
       "</table>\n",
       "</div>"
      ],
      "text/plain": [
       "                 data  accuracy model\n",
       "0      tf-5000-1000-1  0.793279   knn\n",
       "1  tf-idf-5000-1000-1  0.615071   knn\n",
       "2      tf-5000-1000-1  0.914460   svc"
      ]
     },
     "execution_count": 37,
     "metadata": {},
     "output_type": "execute_result"
    }
   ],
   "source": [
    "y"
   ]
  },
  {
   "cell_type": "code",
   "execution_count": 54,
   "metadata": {},
   "outputs": [],
   "source": [
    "def text_split(x):\n",
    "    y = x.split('-')\n",
    "    return y"
   ]
  },
  {
   "cell_type": "code",
   "execution_count": 56,
   "metadata": {},
   "outputs": [],
   "source": [
    "yy = y['data'].apply(text_split)"
   ]
  },
  {
   "cell_type": "code",
   "execution_count": 58,
   "metadata": {},
   "outputs": [
    {
     "data": {
      "text/plain": [
       "['tf', 'idf', '5000', '1000', '1']"
      ]
     },
     "execution_count": 58,
     "metadata": {},
     "output_type": "execute_result"
    }
   ],
   "source": [
    "yy[1]"
   ]
  },
  {
   "cell_type": "code",
   "execution_count": 59,
   "metadata": {},
   "outputs": [
    {
     "name": "stdout",
     "output_type": "stream",
     "text": [
      "['tf', '5000', '1000', '1']\n",
      "['tf', 'idf', '5000', '1000', '1']\n",
      "['tf', '5000', '1000', '1']\n"
     ]
    }
   ],
   "source": [
    "for splitted_entries in yy:\n",
    "    if splitted_entries[1] == 'idf': # inverse document frequency case\n",
    "        "
   ]
  },
  {
   "cell_type": "code",
   "execution_count": null,
   "metadata": {},
   "outputs": [],
   "source": []
  }
 ],
 "metadata": {
  "kernelspec": {
   "display_name": "conda_pytorch_p36",
   "language": "python",
   "name": "conda_pytorch_p36"
  },
  "language_info": {
   "codemirror_mode": {
    "name": "ipython",
    "version": 3
   },
   "file_extension": ".py",
   "mimetype": "text/x-python",
   "name": "python",
   "nbconvert_exporter": "python",
   "pygments_lexer": "ipython3",
   "version": "3.6.10"
  }
 },
 "nbformat": 4,
 "nbformat_minor": 4
}
