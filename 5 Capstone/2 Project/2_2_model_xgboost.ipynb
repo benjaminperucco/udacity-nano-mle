{
 "cells": [
  {
   "cell_type": "code",
   "execution_count": null,
   "metadata": {},
   "outputs": [],
   "source": [
    "import os\n",
    "import numpy as np\n",
    "from sklearn.metrics import accuracy_score\n",
    "import pandas as pd\n",
    "from sagemaker.session import Session\n",
    "from sagemaker.session import get_execution_role\n",
    "from sagemaker.tuner import HyperparameterTuner, CategoricalParameter, IntegerParameter, ContinuousParameter\n",
    "from sagemaker.inputs import TrainingInput\n",
    "from sagemaker.xgboost.estimator import XGBoost\n",
    "from sagemaker import image_uris\n",
    "from sagemaker.inputs import TrainingInput\n",
    "from sagemaker.estimator import Estimator\n",
    "from sagemaker.serializers import CSVSerializer\n",
    "import sagemaker"
   ]
  },
  {
   "cell_type": "code",
   "execution_count": null,
   "metadata": {},
   "outputs": [],
   "source": [
    "def perform_tuning(session, role, train_data, test_data, base_dict, sweep_dict, n_jobs=10, parallel_jobs=3):\n",
    "    \n",
    "    container = image_uris.retrieve('xgboost', session.boto_region_name, '1.2-1')\n",
    "    \n",
    "    regressor = sagemaker.estimator.Estimator(\n",
    "        container,\n",
    "        role, \n",
    "        instance_count=1, \n",
    "        instance_type='ml.c5.2xlarge',\n",
    "        sagemaker_session=session\n",
    "    ) \n",
    "    \n",
    "    regressor.set_hyperparameters(**base_dict)\n",
    "    \n",
    "    tuner = HyperparameterTuner(\n",
    "        regressor,\n",
    "        objective_metric_name='validation:rmse', # xgboost optimizes on rsme because prediction output is float\n",
    "        objective_type='Minimize',\n",
    "        hyperparameter_ranges=sweep_dict,\n",
    "        max_jobs=n_jobs,\n",
    "        max_parallel_jobs=parallel_jobs\n",
    "    )\n",
    "    \n",
    "    tuner.fit({'train': train_data, 'validation': test_data})\n",
    "    \n",
    "    # attach best model to an estimator for hyperparameter extraction\n",
    "    xgb = sagemaker.estimator.Estimator.attach(tuner.best_training_job())\n",
    "    \n",
    "    return tuner, xgb.hyperparameters()"
   ]
  },
  {
   "cell_type": "code",
   "execution_count": null,
   "metadata": {},
   "outputs": [],
   "source": [
    "def deploy_best_model(tuner):\n",
    "    \n",
    "    predictor = tuner.deploy(initial_instance_count=1, instance_type='ml.t2.large')\n",
    "    \n",
    "    return predictor"
   ]
  },
  {
   "cell_type": "code",
   "execution_count": null,
   "metadata": {},
   "outputs": [],
   "source": [
    "def perform_prediction(status_type, predictor, validation_data, rows=100):\n",
    "    \n",
    "    print('perform {} prediction'.format(status_type), end='')\n",
    "    \n",
    "    predictor.serializer = CSVSerializer()\n",
    "    \n",
    "    validation_y = validation_data.iloc[:, 0].to_numpy()\n",
    "    validation_X = validation_data.iloc[:, 1:].to_numpy()\n",
    "    \n",
    "    split_array = np.array_split(validation_X, int(validation_X.shape[0] / float(rows) + 1))\n",
    "    predictions = ''\n",
    "    iteration = 0\n",
    "    for array in split_array:\n",
    "        iteration += 1\n",
    "        if iteration % 10 == 0:\n",
    "            print('.', end='')\n",
    "        predictions = ','.join([predictions, predictor.predict(array).decode('utf-8')])\n",
    "        \n",
    "    round_predictions = np.fromstring(predictions[1:], sep=',').round()\n",
    "    print('done')\n",
    "\n",
    "    return round_predictions, validation_y"
   ]
  },
  {
   "cell_type": "code",
   "execution_count": null,
   "metadata": {},
   "outputs": [],
   "source": [
    "def save_model_results(validation_accuracy, test_accuracy, data, path):\n",
    "    \"\"\"\n",
    "    Save accuracy result from validation data on local instance.\n",
    "    \n",
    "    Args:\n",
    "    - accuracy (float): Accuracy result.\n",
    "    - data (str): Defines the validated dataset.\n",
    "    - path (str): Path where file is saved.\n",
    "    \n",
    "    Returns:\n",
    "    - None: Writes file directly on local filesystem.\n",
    "    \"\"\"\n",
    "        \n",
    "    data_path = '{}/{}.csv'.format(path, data)\n",
    "    if not os.path.exists(path):\n",
    "        os.mkdir(path)\n",
    "        \n",
    "    save_dict = {\n",
    "        'data': data,\n",
    "        'validation_accuracy': validation_accuracy,\n",
    "        'test_accuracy': test_accuracy\n",
    "    }\n",
    "    \n",
    "    accuracy_df = pd.DataFrame.from_dict([save_dict])\n",
    "    accuracy_df.to_csv(data_path, index=False)\n",
    "    print('accuracy save done')"
   ]
  },
  {
   "cell_type": "code",
   "execution_count": null,
   "metadata": {},
   "outputs": [],
   "source": [
    "def save_best_model_parameters(model_data_dict, data, path):\n",
    "    \n",
    "    data_path = '{}/{}.csv'.format(path, data)\n",
    "    if not os.path.exists(path):\n",
    "        os.mkdir(path)\n",
    "    \n",
    "    save_dict = {\n",
    "        'data': data,\n",
    "    }\n",
    "    save_dict.update(model_data_dict)\n",
    "    \n",
    "    model_data_df = pd.DataFrame.from_dict([save_dict])\n",
    "    model_data_df.to_csv(data_path, index=False)\n",
    "    print('best model parameter save done') "
   ]
  },
  {
   "cell_type": "code",
   "execution_count": null,
   "metadata": {},
   "outputs": [],
   "source": [
    "def validate_data(model, data_prefix, dataset_list, base_dict, sweep_dict, n_jobs=10, parallel_jobs=3):\n",
    "    \n",
    "    print('define some SageMaker base parameters...', end='')\n",
    "        \n",
    "    sagemaker_session = Session()\n",
    "    role = get_execution_role()\n",
    "    bucket = sagemaker_session.default_bucket()\n",
    "    \n",
    "    print('done')\n",
    "    \n",
    "    for dataset in dataset_list:\n",
    "        \n",
    "        model_name = '{}-{}'.format(model, dataset)\n",
    "        print('evaluate model {}...'.format(model_name))\n",
    "        \n",
    "        # define input data\n",
    "        input_data = []\n",
    "        data_type_list = ['train', 'test', 'validation']\n",
    "        for data_type in data_type_list:\n",
    "            input_data.append('s3://{}/{}/{}-{}'.format(bucket, data_prefix, data_type, dataset))\n",
    "        \n",
    "        # configure hyperparameter tuning\n",
    "        s3_input_train = TrainingInput(s3_data=input_data[0], content_type='csv')\n",
    "        s3_input_test = TrainingInput(s3_data=input_data[1], content_type='csv')\n",
    "        \n",
    "        # start hyperparameter tuning job\n",
    "        print('start tuning', end='')\n",
    "        tuner, model_hyperparameters = perform_tuning(\n",
    "            session=sagemaker_session, \n",
    "            role=role, \n",
    "            train_data=s3_input_train, \n",
    "            test_data=s3_input_test,\n",
    "            base_dict=base_dict, \n",
    "            sweep_dict=sweep_dict, \n",
    "            n_jobs=n_jobs, \n",
    "            parallel_jobs=parallel_jobs\n",
    "        )\n",
    "\n",
    "        # deploy endpoint\n",
    "        print('deploy best model', end='')\n",
    "        predictor = deploy_best_model(tuner)\n",
    "        print('')\n",
    "\n",
    "        # read validation data\n",
    "        validation_data = pd.read_csv('{}/{}'.format(input_data[2], 'validation.csv'))\n",
    "        \n",
    "        # read test data\n",
    "        test_data = pd.read_csv('{}/{}'.format(input_data[1], 'test.csv'))\n",
    "        \n",
    "        # we have a lot of validation data, so we'll split it into batches of 100\n",
    "        # split the validate data set into batches and evaluate using prediction endpoint  \n",
    "        test_pred_y, test_y = perform_prediction('test', predictor, test_data, 100)\n",
    "        validation_pred_y, validation_y = perform_prediction('validation', predictor, validation_data, 100)              \n",
    "\n",
    "        # get accuracy metrics\n",
    "        test_accuracy = accuracy_score(test_y, test_pred_y)\n",
    "        print('test model...accuracy: {} %'.format(round(test_accuracy * 100, 1)))\n",
    "        validation_accuracy = accuracy_score(validation_y, validation_pred_y)\n",
    "        print('validate model...accuracy: {} %'.format(round(validation_accuracy * 100, 1)))\n",
    "        \n",
    "        # save model results continuously into files in case something crashes, we have at least old results\n",
    "        validation_prefix = 'validation-{}'.format(model) # add prefix where data will be stored\n",
    "        tuned_model_prefix = 'tuned-model-{}'.format(model) # add prefix where best model data will be stored\n",
    "        save_model_results(validation_accuracy, test_accuracy, dataset, validation_prefix)\n",
    "        save_best_model_parameters(model_hyperparameters, dataset, tuned_model_prefix)\n",
    "        \n",
    "        # remove resources\n",
    "        predictor.delete_endpoint()"
   ]
  },
  {
   "cell_type": "markdown",
   "metadata": {},
   "source": [
    "## Parameters"
   ]
  },
  {
   "cell_type": "code",
   "execution_count": null,
   "metadata": {},
   "outputs": [],
   "source": [
    "# data to be validated\n",
    "data = [\n",
    "    'tf-44898-250-1', 'tf-idf-44898-250-1', \n",
    "    'tf-44898-125-1', 'tf-idf-44898-125-1', \n",
    "    'tf-44898-250-2', 'tf-idf-44898-250-2', \n",
    "    'tf-44898-125-2', 'tf-idf-44898-125-2'\n",
    "]"
   ]
  },
  {
   "cell_type": "code",
   "execution_count": null,
   "metadata": {},
   "outputs": [],
   "source": [
    "# hyperparameter search job definition\n",
    "jobs = 8 # we search for 8 combinations in parameter space\n",
    "parallel_jobs = 8 # in parallel, we execute 8 jobs"
   ]
  },
  {
   "cell_type": "code",
   "execution_count": null,
   "metadata": {},
   "outputs": [],
   "source": [
    "# initial estimator parameters\n",
    "base = {\n",
    "    'objective': 'binary:logistic',\n",
    "    'num_round': 100,\n",
    "    'rate_drop': 0.3,\n",
    "    'tweedie_variance_power': 1.4\n",
    "}"
   ]
  },
  {
   "cell_type": "code",
   "execution_count": null,
   "metadata": {},
   "outputs": [],
   "source": [
    "# tunable hyperparameters\n",
    "ranges = {\n",
    "    'eta': ContinuousParameter(0, 1),\n",
    "    'min_child_weight': ContinuousParameter(1, 10),\n",
    "    'alpha': ContinuousParameter(0, 2),\n",
    "    'max_depth': IntegerParameter(1, 10)\n",
    "}"
   ]
  },
  {
   "cell_type": "markdown",
   "metadata": {},
   "source": [
    "## XGBoost model"
   ]
  },
  {
   "cell_type": "code",
   "execution_count": null,
   "metadata": {},
   "outputs": [],
   "source": [
    "validate_data('xgb', 'data', data, base, ranges, jobs, parallel_jobs)"
   ]
  },
  {
   "cell_type": "code",
   "execution_count": null,
   "metadata": {},
   "outputs": [],
   "source": []
  }
 ],
 "metadata": {
  "kernelspec": {
   "display_name": "conda_pytorch_p36",
   "language": "python",
   "name": "conda_pytorch_p36"
  },
  "language_info": {
   "codemirror_mode": {
    "name": "ipython",
    "version": 3
   },
   "file_extension": ".py",
   "mimetype": "text/x-python",
   "name": "python",
   "nbconvert_exporter": "python",
   "pygments_lexer": "ipython3",
   "version": "3.6.10"
  }
 },
 "nbformat": 4,
 "nbformat_minor": 4
}
