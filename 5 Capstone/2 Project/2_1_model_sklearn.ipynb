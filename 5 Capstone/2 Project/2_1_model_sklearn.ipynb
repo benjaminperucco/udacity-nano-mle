{
 "cells": [
  {
   "cell_type": "markdown",
   "metadata": {},
   "source": [
    "# Machine learning models based on scikit-learn framework"
   ]
  },
  {
   "cell_type": "code",
   "execution_count": null,
   "metadata": {},
   "outputs": [],
   "source": [
    "# define libraries\n",
    "import os\n",
    "import numpy as np\n",
    "from sklearn.metrics import accuracy_score\n",
    "import pandas as pd\n",
    "from sagemaker.session import Session\n",
    "from sagemaker.sklearn.estimator import SKLearn\n",
    "from sagemaker.sklearn.model import SKLearnModel\n",
    "from sagemaker.session import get_execution_role\n",
    "from sagemaker.tuner import HyperparameterTuner, CategoricalParameter, IntegerParameter, ContinuousParameter"
   ]
  },
  {
   "cell_type": "code",
   "execution_count": null,
   "metadata": {},
   "outputs": [],
   "source": [
    "def save_model_results(accuracy, data, path):\n",
    "    \"\"\"\n",
    "    Save accuracy result from validation data on local instance.\n",
    "    \n",
    "    Args:\n",
    "    - accuracy (float): Accuracy result.\n",
    "    - data (str): Defines the validated dataset.\n",
    "    - path (str): Path where file is saved.\n",
    "    \n",
    "    Returns:\n",
    "    - None: Writes file directly on local filesystem.\n",
    "    \"\"\"\n",
    "        \n",
    "    data_path = '{}/{}.csv'.format(path, data)\n",
    "    if not os.path.exists(path):\n",
    "        os.mkdir(path)\n",
    "        \n",
    "    save_dict = {\n",
    "        'data': data,\n",
    "        'accuracy': accuracy\n",
    "    }\n",
    "    \n",
    "    accuracy_df = pd.DataFrame.from_dict([save_dict])\n",
    "    accuracy_df.to_csv(data_path, index=False)\n",
    "    print('save done')"
   ]
  },
  {
   "cell_type": "code",
   "execution_count": null,
   "metadata": {},
   "outputs": [],
   "source": [
    "def validate_data(model, data_prefix, dataset_list, base_dict, sweep_dict, n_jobs=10, parallel_jobs=3):\n",
    "    \"\"\"\n",
    "    Perform hyperparmeter search and use best model to predict accuracy on validation data. For hyperparmeter search, \n",
    "    the test data is used. Final evaluated accuracy value will be stored in a directory called validation-{model}.\n",
    "    \n",
    "    Args:\n",
    "    - bucket (str): SageMaker s3 bucket.\n",
    "    - data_prefix (str): Path on s3 where training, test and validation data is found.\n",
    "    - dataset_list (list of str): Datasets to be tested as list.\n",
    "    - base_dict (dict): Default hyperparameter for knn model.\n",
    "    - sweep_dict (dict): Hyperparameter dictionary for search.\n",
    "    - n_jobs (int): Number of hyperparameter combinations.\n",
    "    - parallel_jobs (int): Number of searches executed at the same time.\n",
    "    \n",
    "    Returns:\n",
    "    - None: Accuracy result is stored directly in a file.\n",
    "    \"\"\"\n",
    "    \n",
    "    print('define some SageMaker base parameters...', end='')\n",
    "    \n",
    "    # default sagemaker parameters\n",
    "    role = get_execution_role()\n",
    "    sagemaker_session = Session()\n",
    "    default_bucket = sagemaker_session.default_bucket()\n",
    "    \n",
    "    # metric definition\n",
    "    metrics = {\n",
    "        'Name': 'test-accuracy',\n",
    "        'Regex': 'test-accuracy: ([0-9\\\\.]+)'\n",
    "    }\n",
    "    \n",
    "    # create estimator\n",
    "    set_entry_point = 'train-{}.py'.format(model)\n",
    "    estimator = SKLearn(\n",
    "        role=role,\n",
    "        instance_count=1,\n",
    "        instance_type='ml.c4.xlarge',\n",
    "        entry_point=set_entry_point, \n",
    "        source_dir='source', \n",
    "        framework_version='0.23-1', \n",
    "        py_version='py3', \n",
    "        hyperparameters=base_dict\n",
    "    )\n",
    "    \n",
    "    print('done')\n",
    "    \n",
    "    accuracy_list = []\n",
    "    for dataset in dataset_list:\n",
    "        \n",
    "        model_name = '{}-{}'.format(model, dataset)\n",
    "        print('evaluate model {}...'.format(model_name))\n",
    "        \n",
    "        # define input data\n",
    "        input_data = []\n",
    "        data_type_list = ['train', 'test', 'validation']\n",
    "        for data_type in data_type_list:\n",
    "            input_data.append('s3://{}/{}/{}-{}'.format(default_bucket, data_prefix, data_type, dataset))\n",
    "        \n",
    "        # configure hyperparameter tuning\n",
    "        tuner = HyperparameterTuner(\n",
    "            estimator=estimator,\n",
    "            objective_metric_name='test-accuracy',\n",
    "            hyperparameter_ranges=sweep_dict,\n",
    "            metric_definitions=[metrics],\n",
    "            max_parallel_jobs=parallel_jobs,\n",
    "            max_jobs=n_jobs,\n",
    "        )\n",
    "        \n",
    "        # start hyperparameter tuning job\n",
    "        print('start hyperparameters tunig', end='')\n",
    "        tuner.fit({'train': input_data[0], 'test': input_data[1]})\n",
    "\n",
    "        # best training job model artifact\n",
    "        best_model_data = 's3://{}/{}/output/model.tar.gz'.format(default_bucket, tuner.best_training_job())\n",
    "\n",
    "        # create model from training artifacts\n",
    "        best_model = SKLearnModel(\n",
    "            model_data=best_model_data,\n",
    "            role=role,\n",
    "            entry_point=set_entry_point, \n",
    "            source_dir='source', \n",
    "            framework_version='0.23-1',\n",
    "            py_version='py3',\n",
    "        )\n",
    "\n",
    "        # deploy endpoint\n",
    "        print('deploy best model', end='')\n",
    "        best_predictor = best_model.deploy(\n",
    "            initial_instance_count=1, \n",
    "            instance_type='ml.t2.medium'\n",
    "        )\n",
    "\n",
    "        # read validation data\n",
    "        validation_data = pd.read_csv('{}/{}'.format(input_data[2], 'validation.csv'))\n",
    "        validation_y = validation_data.iloc[:, 0]\n",
    "        validation_X = validation_data.iloc[:, 1:]\n",
    "        \n",
    "        # we have a lot of validation data, so we'll split it into batches of 100\n",
    "        # split the validate data set into batches and evaluate using prediction endpoint  \n",
    "        print('')\n",
    "        print('perform prediction', end='')\n",
    "        splitted_validation_X = np.array_split(validation_X, 100)\n",
    "        length_splitted_validation_X = len(splitted_validation_X)\n",
    "        iteration = 0\n",
    "        prediction_batches = []\n",
    "        for batch in splitted_validation_X:\n",
    "            iteration += 1\n",
    "            if iteration % 10 == 0:\n",
    "                print('.', end='')\n",
    "            prediction_batches.append(best_predictor.predict(batch))\n",
    "            \n",
    "        print('done')\n",
    "        \n",
    "        # merge batches together\n",
    "        best_pred_y = np.concatenate(prediction_batches)                 \n",
    "\n",
    "        # get accuracy metrics\n",
    "        best_accuracy = accuracy_score(validation_y, best_pred_y)\n",
    "        print('validate model...accuracy: {} %'.format(round(best_accuracy * 100, 1)))\n",
    "        \n",
    "        # save model results continuously into files in case something crashes, we have at least old results\n",
    "        validation_prefix = 'validation-{}'.format(model) # add prefix where data will be stored\n",
    "        save_model_results(best_accuracy, dataset, validation_prefix)\n",
    "        \n",
    "        # remove resources\n",
    "        best_predictor.delete_endpoint()\n",
    "                                      "
   ]
  },
  {
   "cell_type": "markdown",
   "metadata": {},
   "source": [
    " ## Parameter for all models"
   ]
  },
  {
   "cell_type": "code",
   "execution_count": null,
   "metadata": {},
   "outputs": [],
   "source": [
    "# data to be validated\n",
    "#data = [\n",
    "#    'tf-5000-500-1', 'tf-idf-5000-500-1', \n",
    "#    'tf-5000-1000-1', 'tf-idf-5000-1000-1', \n",
    "#    'tf-5000-5000-1', 'tf-idf-5000-5000-1', \n",
    "#    'tf-5000-500-2', 'tf-idf-5000-500-2', \n",
    "#    'tf-5000-1000-2', 'tf-idf-5000-1000-2', \n",
    "#    'tf-5000-5000-2', 'tf-idf-5000-5000-2'\n",
    "#]"
   ]
  },
  {
   "cell_type": "code",
   "execution_count": null,
   "metadata": {},
   "outputs": [],
   "source": [
    "data = ['tf-idf-5000-500-1']"
   ]
  },
  {
   "cell_type": "code",
   "execution_count": null,
   "metadata": {},
   "outputs": [],
   "source": [
    "# hyperparameter search job definition\n",
    "jobs = 20 # we search for 20 combinations in parameter space\n",
    "parallel_jobs = 4 # in parallel, we execute 4 jobs"
   ]
  },
  {
   "cell_type": "markdown",
   "metadata": {},
   "source": [
    "## k nearest neighbors model"
   ]
  },
  {
   "cell_type": "code",
   "execution_count": null,
   "metadata": {},
   "outputs": [],
   "source": [
    "# initial estimator parameters\n",
    "base = {\n",
    "    'param_n_neighbors': 5,\n",
    "    'param_weight': 'uniform',\n",
    "    'param_p': 2\n",
    "}  "
   ]
  },
  {
   "cell_type": "code",
   "execution_count": null,
   "metadata": {},
   "outputs": [],
   "source": [
    "# tunable hyperparameters\n",
    "ranges = {\n",
    "    'param_n_neighbors': IntegerParameter(3, 15),\n",
    "    'param_weight': CategoricalParameter(['uniform', 'distance']),\n",
    "    'param_p': IntegerParameter(1, 8)\n",
    "}"
   ]
  },
  {
   "cell_type": "code",
   "execution_count": null,
   "metadata": {},
   "outputs": [],
   "source": [
    "# perform validation\n",
    "validate_data('knn', 'data', data, base, ranges, jobs, parallel_jobs)"
   ]
  },
  {
   "cell_type": "markdown",
   "metadata": {},
   "source": [
    "## Support vector model"
   ]
  },
  {
   "cell_type": "code",
   "execution_count": null,
   "metadata": {},
   "outputs": [],
   "source": [
    "# initial estimator parameters\n",
    "base = {\n",
    "    'param_random_state': 1,\n",
    "    'param_kernel': 'poly',\n",
    "    'param_C': 1.0,\n",
    "    'param_degree': 3,\n",
    "}  "
   ]
  },
  {
   "cell_type": "code",
   "execution_count": null,
   "metadata": {},
   "outputs": [],
   "source": [
    "# tunable hyperparameters\n",
    "ranges = {\n",
    "    'param_C': ContinuousParameter(0.001, 3.0),\n",
    "    'param_degree': IntegerParameter(2, 3),\n",
    "}"
   ]
  },
  {
   "cell_type": "code",
   "execution_count": null,
   "metadata": {},
   "outputs": [],
   "source": [
    "# perform validation\n",
    "validate_data('svc', 'data', data, base, ranges, jobs, parallel_jobs)"
   ]
  },
  {
   "cell_type": "markdown",
   "metadata": {},
   "source": [
    "## Logistic regression model"
   ]
  },
  {
   "cell_type": "code",
   "execution_count": null,
   "metadata": {},
   "outputs": [],
   "source": [
    "# initial estimator parameters\n",
    "base = {\n",
    "    'param_max_iter': 10000,\n",
    "    'param_C': 1.0,\n",
    "}  "
   ]
  },
  {
   "cell_type": "code",
   "execution_count": null,
   "metadata": {},
   "outputs": [],
   "source": [
    "# tunable hyperparameters\n",
    "ranges = {\n",
    "    'param_C': ContinuousParameter(0.001, 3.0),\n",
    "}"
   ]
  },
  {
   "cell_type": "code",
   "execution_count": null,
   "metadata": {},
   "outputs": [],
   "source": [
    "# perform validation\n",
    "validate_data('log', 'data', data, base, ranges, jobs, parallel_jobs)"
   ]
  },
  {
   "cell_type": "markdown",
   "metadata": {},
   "source": [
    "## Gradient boosting model"
   ]
  },
  {
   "cell_type": "code",
   "execution_count": null,
   "metadata": {},
   "outputs": [],
   "source": [
    "# initial estimator parameters\n",
    "base = {\n",
    "    'param_learning_rate': 0.1,\n",
    "    'param_n_estimators': 100,\n",
    "    'param_random_state': 1,\n",
    "    'param_max_depth': 3,\n",
    "} "
   ]
  },
  {
   "cell_type": "code",
   "execution_count": null,
   "metadata": {},
   "outputs": [],
   "source": [
    "# tunable hyperparameters\n",
    "ranges = {\n",
    "    'param_learning_rate': ContinuousParameter(0.001, 0.5),\n",
    "    'param_n_estimators': IntegerParameter(100, 1000),\n",
    "    'param_max_depth': IntegerParameter(2, 10),\n",
    "}"
   ]
  },
  {
   "cell_type": "code",
   "execution_count": null,
   "metadata": {},
   "outputs": [],
   "source": [
    "# perform validation\n",
    "validate_data('gbc', 'data', data, base, ranges, jobs, parallel_jobs)"
   ]
  },
  {
   "cell_type": "markdown",
   "metadata": {},
   "source": [
    "## Recurrent neural network model"
   ]
  },
  {
   "cell_type": "code",
   "execution_count": null,
   "metadata": {},
   "outputs": [],
   "source": [
    "# initial estimator parameters\n",
    "base = {\n",
    "    'param_hidden_layer_size': 3,\n",
    "    'param_start_hidden_layer': 100,\n",
    "    'param_end_hidden_layer': 10,\n",
    "    'param_learning_rate': 0.001,\n",
    "    'param_random_state': 1,\n",
    "    'param_max_iter': 200,\n",
    "    'param_activation': 'relu',\n",
    "} "
   ]
  },
  {
   "cell_type": "code",
   "execution_count": null,
   "metadata": {},
   "outputs": [],
   "source": [
    "# tunable hyperparameters\n",
    "ranges = {\n",
    "    'param_hidden_layer_size': IntegerParameter(2, 10),\n",
    "    'param_start_hidden_layer': IntegerParameter(10, 1000),\n",
    "    'param_end_hidden_layer': IntegerParameter(10, 1000),\n",
    "    'param_learning_rate': ContinuousParameter(0.0001, 0.1),\n",
    "    'param_max_iter': IntegerParameter(100, 10000),\n",
    "    'param_activation': CategoricalParameter(['identity', 'logistic', 'relu', 'tanh'])\n",
    "}"
   ]
  },
  {
   "cell_type": "code",
   "execution_count": null,
   "metadata": {},
   "outputs": [],
   "source": [
    "validate_data('mlp', 'data', data, base, ranges, jobs, parallel_jobs)"
   ]
  },
  {
   "cell_type": "code",
   "execution_count": null,
   "metadata": {},
   "outputs": [],
   "source": []
  }
 ],
 "metadata": {
  "kernelspec": {
   "display_name": "conda_pytorch_p36",
   "language": "python",
   "name": "conda_pytorch_p36"
  },
  "language_info": {
   "codemirror_mode": {
    "name": "ipython",
    "version": 3
   },
   "file_extension": ".py",
   "mimetype": "text/x-python",
   "name": "python",
   "nbconvert_exporter": "python",
   "pygments_lexer": "ipython3",
   "version": "3.6.10"
  }
 },
 "nbformat": 4,
 "nbformat_minor": 4
}
