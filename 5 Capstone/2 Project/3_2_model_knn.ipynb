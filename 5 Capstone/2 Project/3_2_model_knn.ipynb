{
 "cells": [
  {
   "cell_type": "markdown",
   "metadata": {},
   "source": [
    "# Model knn"
   ]
  },
  {
   "cell_type": "code",
   "execution_count": null,
   "metadata": {},
   "outputs": [],
   "source": [
    "import os\n",
    "import numpy as np\n",
    "from sklearn.metrics import accuracy_score\n",
    "import pandas as pd\n",
    "from sagemaker.session import Session\n",
    "from sagemaker.sklearn.estimator import SKLearn\n",
    "from sagemaker.sklearn.model import SKLearnModel\n",
    "from sagemaker.session import get_execution_role\n",
    "from sagemaker.tuner import HyperparameterTuner, CategoricalParameter"
   ]
  },
  {
   "cell_type": "markdown",
   "metadata": {},
   "source": [
    "# Function to validate different datasets"
   ]
  },
  {
   "cell_type": "markdown",
   "metadata": {},
   "source": [
    "validate_data can act as a base function for all different machine learning models to be validated."
   ]
  },
  {
   "cell_type": "code",
   "execution_count": null,
   "metadata": {},
   "outputs": [],
   "source": [
    "def validate_data(dataset_list, base_hyperparameter_dict, sweep_hyperparameters_dict, jobs=10, parallel_jobs=3):\n",
    "    \n",
    "    print('define some sagemaker base parameters...', end='')\n",
    "    \n",
    "    # default sagemaker parameters\n",
    "    role = get_execution_role()\n",
    "    sagemaker_session = Session()\n",
    "    default_bucket = sagemaker_session.default_bucket()\n",
    "    \n",
    "    # metric definition\n",
    "    metrics = {\n",
    "        'Name': 'test-accuracy',\n",
    "        'Regex': 'test-accuracy: ([0-9\\\\.]+)'\n",
    "    }\n",
    "    \n",
    "    # create scikit-learn estimator\n",
    "    estimator = SKLearn(\n",
    "        role=role,\n",
    "        instance_count=1,\n",
    "        instance_type='ml.c4.xlarge',\n",
    "        entry_point='train-knn.py', \n",
    "        source_dir='source', \n",
    "        framework_version='0.23-1', \n",
    "        py_version='py3', \n",
    "        hyperparameters=base_hyperparameter_dict\n",
    "    )\n",
    "    \n",
    "    print('done')\n",
    "    \n",
    "    accuracy_list = []\n",
    "    for dataset in dataset_list:\n",
    "        \n",
    "        print('evaluate model {}'.format(dataset))\n",
    "        \n",
    "        # upload data to s3, must be done before any fitting happens\n",
    "        print('upload data to s3...', end='')\n",
    "        input_data = []\n",
    "        prefix_list = ['train', 'test', 'validation']\n",
    "        for prefix in prefix_list:\n",
    "            specific_path = '{}-{}'.format(prefix, dataset)\n",
    "            tmp_path = sagemaker_session.upload_data(specific_path, bucket=default_bucket, key_prefix=specific_path)\n",
    "            input_data.append(tmp_path)\n",
    "            \n",
    "        print('done')\n",
    "        \n",
    "        # configure hyperparameter tuning\n",
    "        tuner = HyperparameterTuner(\n",
    "            estimator=estimator,\n",
    "            objective_metric_name='test-accuracy',\n",
    "            hyperparameter_ranges=sweep_hyperparameters_dict,\n",
    "            metric_definitions=[metrics],\n",
    "            max_parallel_jobs=parallel_jobs,\n",
    "            max_jobs=jobs,\n",
    "            base_tuning_job_name=dataset\n",
    "        )\n",
    "        \n",
    "        # start hyperparameter tuning job\n",
    "        print('start hyperparameters tunig...', end='')\n",
    "        tuner.fit({'train': input_data[0], 'test': input_data[1]})\n",
    "        print('done')\n",
    "\n",
    "        # best training job model artifact\n",
    "        best_model_data = 's3://{}/{}/output/model.tar.gz'.format(default_bucket, tuner.best_training_job())\n",
    "\n",
    "        # create scikit-learn model from training artifacts\n",
    "        best_model = SKLearnModel(\n",
    "            model_data=best_model_data,\n",
    "            role=role,\n",
    "            entry_point='train-knn.py', \n",
    "            source_dir='source', \n",
    "            framework_version='0.23-1',\n",
    "            py_version='py3',\n",
    "            name=dataset\n",
    "        )\n",
    "\n",
    "        # deploy endpoint\n",
    "        print('deploy best model...', end='')\n",
    "        best_predictor = best_model.deploy(\n",
    "            initial_instance_count=1, \n",
    "            instance_type='ml.t2.medium'\n",
    "        )\n",
    "        print('done')\n",
    "\n",
    "        # read validation data\n",
    "        validation_data = pd.read_csv('{}/{}'.format(input_data[2], 'validation.csv'))\n",
    "        validation_y = validation_data.iloc[:, 0]\n",
    "        validation_X = validation_data.iloc[:, 1:]\n",
    "        \n",
    "        # make predictions based on validation data\n",
    "        best_pred_y = best_predictor.predict(validation_X)\n",
    "\n",
    "        # get accuracy metrics\n",
    "        best_accuracy = accuracy_score(validation_y, best_pred_y)\n",
    "        accuracy_list.append(best_accuracy)\n",
    "        print('validate model')\n",
    "        print('accuracy: {} %'.format(round(best_accuracy * 100, 1)))\n",
    "        \n",
    "        # remove resources\n",
    "        best_predictor.delete_endpoint()\n",
    "                                           \n",
    "        return accuracy_list\n",
    "                                      "
   ]
  },
  {
   "cell_type": "markdown",
   "metadata": {},
   "source": [
    "### Define parameters for initial estimator and hyperparameter tuning ranges"
   ]
  },
  {
   "cell_type": "code",
   "execution_count": null,
   "metadata": {},
   "outputs": [],
   "source": [
    "base = {\n",
    "    'param_n_neighbors': 5,\n",
    "    'param_weight': 'uniform',\n",
    "    'param_p': 2\n",
    "}  "
   ]
  },
  {
   "cell_type": "code",
   "execution_count": null,
   "metadata": {},
   "outputs": [],
   "source": [
    "ranges = {\n",
    "    'param_n_neighbors': CategoricalParameter(list(np.arange(3, 13, 2))),\n",
    "    'param_weight': CategoricalParameter(['uniform', 'distance']),\n",
    "    'param_p': CategoricalParameter(list(np.arange(2, 8, 1)))\n",
    "}"
   ]
  },
  {
   "cell_type": "markdown",
   "metadata": {},
   "source": [
    "### Select data to be validated"
   ]
  },
  {
   "cell_type": "code",
   "execution_count": null,
   "metadata": {},
   "outputs": [],
   "source": [
    "data = ['tf-5000-250-1', 'tf-5000-500-1', 'tf-idf-5000-250-1', 'tf-idf-5000-500-1']"
   ]
  },
  {
   "cell_type": "markdown",
   "metadata": {},
   "source": [
    "### Start validate data function"
   ]
  },
  {
   "cell_type": "code",
   "execution_count": null,
   "metadata": {},
   "outputs": [],
   "source": [
    "accuracy_list = validate_data(data, base, ranges, 3, 3)"
   ]
  },
  {
   "cell_type": "markdown",
   "metadata": {},
   "source": [
    "### Write results to file system"
   ]
  },
  {
   "cell_type": "code",
   "execution_count": null,
   "metadata": {},
   "outputs": [],
   "source": [
    "def save_model_results(accuracy_list, data_list, path, file):\n",
    "    data_path = '{}/{}'.format(path, file)\n",
    "    if not os.path.exists(path):\n",
    "        os.mkdir(path)\n",
    "        \n",
    "    save_dict = {\n",
    "        'data': data_list,\n",
    "        'accuracy': accuracy_list\n",
    "    }\n",
    "    \n",
    "    accuracy_df = pd.from_dict(save_dict)\n",
    "    accuracy_df.to_csv(data_path, index=False)\n",
    "    print('save done')"
   ]
  },
  {
   "cell_type": "code",
   "execution_count": null,
   "metadata": {},
   "outputs": [],
   "source": [
    "save_model_results(accuracy_list, data, 'evaluate', 'knn.csv')"
   ]
  }
 ],
 "metadata": {
  "kernelspec": {
   "display_name": "conda_pytorch_p36",
   "language": "python",
   "name": "conda_pytorch_p36"
  },
  "language_info": {
   "codemirror_mode": {
    "name": "ipython",
    "version": 3
   },
   "file_extension": ".py",
   "mimetype": "text/x-python",
   "name": "python",
   "nbconvert_exporter": "python",
   "pygments_lexer": "ipython3",
   "version": "3.6.10"
  }
 },
 "nbformat": 4,
 "nbformat_minor": 4
}
