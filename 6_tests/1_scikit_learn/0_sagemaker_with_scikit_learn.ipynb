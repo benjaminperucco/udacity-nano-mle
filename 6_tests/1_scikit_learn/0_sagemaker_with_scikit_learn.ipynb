{
 "cells": [
  {
   "cell_type": "markdown",
   "metadata": {},
   "source": [
    "# SageMaker with scikit-learn\n",
    "\n",
    "I use a [knn model](https://scikit-learn.org/stable/modules/generated/sklearn.neighbors.KNeighborsClassifier.html#sklearn.neighbors.KNeighborsClassifier) from scikit-learn to predict the classes of flowers (based on the [iris dataset](https://scikit-learn.org/stable/modules/generated/sklearn.datasets.load_iris.html?highlight=iris#sklearn.datasets.load_iris)). The knn model is deployed as an API on AWS SageMaker."
   ]
  },
  {
   "cell_type": "code",
   "execution_count": null,
   "metadata": {},
   "outputs": [],
   "source": [
    "# import modules\n",
    "import numpy as np\n",
    "from sklearn.datasets import load_iris\n",
    "from sklearn.preprocessing import MinMaxScaler\n",
    "from sklearn.model_selection import train_test_split\n",
    "from sklearn.metrics import accuracy_score\n",
    "import pandas as pd\n",
    "from sagemaker.session import Session\n",
    "from sagemaker.sklearn.estimator import SKLearn\n",
    "from sagemaker.sklearn.model import SKLearnModel\n",
    "from sagemaker.session import get_execution_role\n",
    "from sagemaker.tuner import HyperparameterTuner, CategoricalParameter"
   ]
  },
  {
   "cell_type": "markdown",
   "metadata": {},
   "source": [
    "## Prepare and upload iris data to AWS S3"
   ]
  },
  {
   "cell_type": "code",
   "execution_count": null,
   "metadata": {},
   "outputs": [],
   "source": [
    "# detach dataset\n",
    "iris = load_iris()\n",
    "X = iris['data']\n",
    "y = iris['target']\n",
    "feature_names = iris['feature_names']\n",
    "target_names = iris['target_names']"
   ]
  },
  {
   "cell_type": "code",
   "execution_count": null,
   "metadata": {},
   "outputs": [],
   "source": [
    "# scale features\n",
    "scaler = MinMaxScaler()\n",
    "scaler.fit(X)\n",
    "X = scaler.transform(X)"
   ]
  },
  {
   "cell_type": "code",
   "execution_count": null,
   "metadata": {},
   "outputs": [],
   "source": [
    "# train/test split\n",
    "X_train, X_test, y_train, y_test = train_test_split(X, y, train_size=0.66, random_state=1)"
   ]
  },
  {
   "cell_type": "code",
   "execution_count": null,
   "metadata": {},
   "outputs": [],
   "source": [
    "# default sagemaker parameters\n",
    "role = get_execution_role()\n",
    "sagemaker_session = Session()\n",
    "default_bucket = sagemaker_session.default_bucket()\n",
    "print('Current SageMaker session: {}'.format(sagemaker_session))\n",
    "print('Current SageMaker default bucket: {}'.format(default_bucket))"
   ]
  },
  {
   "cell_type": "code",
   "execution_count": null,
   "metadata": {},
   "outputs": [],
   "source": [
    "# upload training data to s3 as csv without header and index\n",
    "data_name = 'iris-train.csv'\n",
    "prefix = 'iris-scikit-learn'\n",
    "pd.concat([pd.DataFrame(y_train), pd.DataFrame(X_train)], axis=1).to_csv(data_name, header=False, index=False)\n",
    "input_data = sagemaker_session.upload_data(data_name, bucket=default_bucket, key_prefix=prefix)\n",
    "print(input_data)"
   ]
  },
  {
   "cell_type": "markdown",
   "metadata": {},
   "source": [
    "## knn model"
   ]
  },
  {
   "cell_type": "code",
   "execution_count": null,
   "metadata": {},
   "outputs": [],
   "source": [
    "# create scikit-learn estimator\n",
    "estimator = SKLearn(\n",
    "    role=role,\n",
    "    instance_count=1,\n",
    "    instance_type='ml.c4.xlarge',\n",
    "    entry_point='train.py', \n",
    "    source_dir='source', \n",
    "    framework_version='0.23-1', \n",
    "    py_version='py3', \n",
    "    hyperparameters={\n",
    "        'param_n_neighbors': 11,\n",
    "        'param_weight': 'uniform',\n",
    "        'param_p': 2,\n",
    "        'param_cv': 5\n",
    "    }\n",
    ")"
   ]
  },
  {
   "cell_type": "code",
   "execution_count": null,
   "metadata": {},
   "outputs": [],
   "source": [
    "# fit model\n",
    "estimator.fit({'train': input_data})"
   ]
  },
  {
   "cell_type": "code",
   "execution_count": null,
   "metadata": {},
   "outputs": [],
   "source": [
    "# create scikit-learn model from training artifacts\n",
    "model = SKLearnModel(\n",
    "    model_data=estimator.model_data,\n",
    "    role=role,\n",
    "    entry_point='train.py', \n",
    "    source_dir='source', \n",
    "    framework_version='0.23-1',\n",
    "    py_version='py3'\n",
    ")"
   ]
  },
  {
   "cell_type": "code",
   "execution_count": null,
   "metadata": {},
   "outputs": [],
   "source": [
    "# deploy endpoint\n",
    "predictor = model.deploy(\n",
    "    initial_instance_count=1, \n",
    "    instance_type='ml.t2.medium'\n",
    ")"
   ]
  },
  {
   "cell_type": "code",
   "execution_count": null,
   "metadata": {},
   "outputs": [],
   "source": [
    "# make predictions based on test data\n",
    "y_pred = predictor.predict(X_test)"
   ]
  },
  {
   "cell_type": "code",
   "execution_count": null,
   "metadata": {},
   "outputs": [],
   "source": [
    "# get metrics\n",
    "accuracy = accuracy_score(y_test, y_pred)\n",
    "print('accuracy: {} %'.format(round(accuracy * 100, 1)))"
   ]
  },
  {
   "cell_type": "markdown",
   "metadata": {},
   "source": [
    "## Hyperparameter tuning"
   ]
  },
  {
   "cell_type": "code",
   "execution_count": null,
   "metadata": {},
   "outputs": [],
   "source": [
    "# range definition\n",
    "ranges = {\n",
    "    'param_n_neighbors': CategoricalParameter(list(np.arange(3, 13, 2))),\n",
    "    'param_weight': CategoricalParameter(['uniform', 'distance']),\n",
    "    'param_p': CategoricalParameter(list(np.arange(2, 8, 1)))\n",
    "}"
   ]
  },
  {
   "cell_type": "code",
   "execution_count": null,
   "metadata": {},
   "outputs": [],
   "source": [
    "# metric definition\n",
    "metrics = {\n",
    "    'Name': 'accuracy',\n",
    "    'Regex': 'accuracy: ([0-9\\\\.]+)'\n",
    "}"
   ]
  },
  {
   "cell_type": "code",
   "execution_count": null,
   "metadata": {},
   "outputs": [],
   "source": [
    "# configure hyperparameter tuning\n",
    "tuner = HyperparameterTuner(\n",
    "    estimator=estimator,\n",
    "    objective_metric_name='accuracy',\n",
    "    hyperparameter_ranges=ranges,\n",
    "    metric_definitions=[metrics],\n",
    "    max_parallel_jobs=3,\n",
    "    max_jobs=10\n",
    ")"
   ]
  },
  {
   "cell_type": "code",
   "execution_count": null,
   "metadata": {},
   "outputs": [],
   "source": [
    "# start hyperparameter tuning job\n",
    "tuner.fit({'train': input_data})"
   ]
  },
  {
   "cell_type": "code",
   "execution_count": null,
   "metadata": {},
   "outputs": [],
   "source": [
    "# best training job model artifact\n",
    "best_model_data = 's3://{}/{}/output/model.tar.gz'.format(default_bucket, tuner.best_training_job())\n",
    "print(best_model_data)"
   ]
  },
  {
   "cell_type": "code",
   "execution_count": null,
   "metadata": {},
   "outputs": [],
   "source": [
    "# create scikit-learn model from training artifacts\n",
    "best_model = SKLearnModel(\n",
    "    model_data=best_model_data,\n",
    "    role=role,\n",
    "    entry_point='train.py', \n",
    "    source_dir='source', \n",
    "    framework_version='0.23-1',\n",
    "    py_version='py3'\n",
    ")"
   ]
  },
  {
   "cell_type": "code",
   "execution_count": null,
   "metadata": {},
   "outputs": [],
   "source": [
    "# deploy endpoint\n",
    "best_predictor = best_model.deploy(\n",
    "    initial_instance_count=1, \n",
    "    instance_type='ml.t2.medium'\n",
    ")"
   ]
  },
  {
   "cell_type": "code",
   "execution_count": null,
   "metadata": {},
   "outputs": [],
   "source": [
    "# make predictions based on test data\n",
    "best_y_pred = best_predictor.predict(X_test)"
   ]
  },
  {
   "cell_type": "code",
   "execution_count": null,
   "metadata": {},
   "outputs": [],
   "source": [
    "# get metrics\n",
    "best_accuracy = accuracy_score(y_test, best_y_pred)\n",
    "print('accuracy: {} %'.format(round(best_accuracy * 100, 1)))"
   ]
  },
  {
   "cell_type": "code",
   "execution_count": null,
   "metadata": {},
   "outputs": [],
   "source": []
  }
 ],
 "metadata": {
  "kernelspec": {
   "display_name": "conda_pytorch_p36",
   "language": "python",
   "name": "conda_pytorch_p36"
  },
  "language_info": {
   "codemirror_mode": {
    "name": "ipython",
    "version": 3
   },
   "file_extension": ".py",
   "mimetype": "text/x-python",
   "name": "python",
   "nbconvert_exporter": "python",
   "pygments_lexer": "ipython3",
   "version": "3.6.10"
  }
 },
 "nbformat": 4,
 "nbformat_minor": 4
}
